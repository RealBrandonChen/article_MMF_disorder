{
 "cells": [
  {
   "cell_type": "code",
   "execution_count": 1,
   "metadata": {},
   "outputs": [],
   "source": [
    "import matplotlib.pyplot as plt\n",
    "import numpy as np\n",
    "# from functions import complex_correlation, colorize, show_colormap_image\n",
    "import os\n",
    "import json\n",
    "\n",
    "# for Jupyter lab\n",
    "%matplotlib widget\n",
    "# for Jupyter notebook\n",
    "# %matplotlib notebook\n",
    "\n",
    "data_folder = '../Data/'\n",
    "\n",
    "SMALL_SIZE = 16\n",
    "MEDIUM_SIZE = 16\n",
    "BIGGER_SIZE = 18\n",
    "\n",
    "plt.rc('font', size=SMALL_SIZE)          # controls default text sizes\n",
    "plt.rc('axes', titlesize=SMALL_SIZE)     # fontsize of the axes title\n",
    "plt.rc('axes', labelsize=MEDIUM_SIZE)    # fontsize of the x and y labels\n",
    "plt.rc('xtick', labelsize=SMALL_SIZE)    # fontsize of the tick labels\n",
    "plt.rc('ytick', labelsize=SMALL_SIZE)    # fontsize of the tick labels\n",
    "plt.rc('legend', fontsize=SMALL_SIZE)    # legend fontsize\n",
    "plt.rc('figure', titlesize=BIGGER_SIZE)  # fontsize of the figure title"
   ]
  },
  {
   "cell_type": "code",
   "execution_count": 2,
   "metadata": {},
   "outputs": [],
   "source": [
    "import torch\n",
    "from torch.autograd import Variable\n",
    "\n",
    "from functions import getZernikeCoefs, showZernikeCoefs\n",
    "from PyTorchAberrations.aberration_functions import pt_to_cpx, cpx_to_pt, tm_to_pt\n",
    "from PyTorchAberrations.aberration_models import AberrationModes\n",
    "from PyTorchAberrations.aberration_functions import conjugate, complex_matmul, normalize"
   ]
  },
  {
   "cell_type": "markdown",
   "metadata": {},
   "source": [
    "# 1. Load data"
   ]
  },
  {
   "cell_type": "markdown",
   "metadata": {},
   "source": [
    "## 1.1 Load ideal mode bases "
   ]
  },
  {
   "cell_type": "code",
   "execution_count": 3,
   "metadata": {},
   "outputs": [],
   "source": [
    "path = os.path.sep.join([data_folder,'conversion_matrices.npz'])\n",
    "data_dict = np.load(path)\n",
    "modes_in = data_dict.f.modes_in\n",
    "nmodes = modes_in.shape[0]\n",
    "# number of input pixels\n",
    "m = np.int(np.sqrt(modes_in.shape[1]))\n",
    "modes_out = data_dict.f.modes_out\n",
    "# number of output pixels\n",
    "n = np.int(np.sqrt(modes_out.shape[1]))"
   ]
  },
  {
   "cell_type": "markdown",
   "metadata": {},
   "source": [
    "## 1.2 Load mask corresponding to degenerate groups of mode"
   ]
  },
  {
   "cell_type": "code",
   "execution_count": 4,
   "metadata": {},
   "outputs": [],
   "source": [
    "path = os.path.sep.join([data_folder,'mask_near_degenerate.npy'])\n",
    "mask_near_degenerate = np.load(path)"
   ]
  },
  {
   "cell_type": "markdown",
   "metadata": {},
   "source": [
    "## 1.3 Load a measured pixel basis TM"
   ]
  },
  {
   "cell_type": "code",
   "execution_count": 5,
   "metadata": {},
   "outputs": [],
   "source": [
    "# in two parts because of Github 100 Mo size limit\n",
    "file_path = os.path.sep.join([data_folder, 'TM5_0.npy'])\n",
    "part1 = np.load(file_path)\n",
    "file_path = os.path.sep.join([data_folder, 'TM5_1.npy'])\n",
    "part2 = np.load(file_path)\n",
    "TM_ref_pix = np.concatenate([part1, part2], axis = 0)\n",
    "del part1\n",
    "del part2"
   ]
  },
  {
   "cell_type": "code",
   "execution_count": 6,
   "metadata": {},
   "outputs": [],
   "source": [
    "TM_ref_pix/=np.max(np.abs(TM_ref_pix))\n",
    "TM_ref_pix[np.abs(TM_ref_pix)<1e-3] = 0"
   ]
  },
  {
   "cell_type": "markdown",
   "metadata": {},
   "source": [
    "# 2. Parameters"
   ]
  },
  {
   "cell_type": "code",
   "execution_count": 7,
   "metadata": {},
   "outputs": [],
   "source": [
    "# padding coefficient for FFT, float > 0.\n",
    "# the bigger, the more precise the FFT during the calculations\n",
    "padding_coeff = 0.05\n",
    "\n",
    "# list of Zernike polynomials to consider in the Fourier plane (both input and output)\n",
    "list_zernike_ft = list(range(9))\n",
    "\n",
    "# list of Zernike polynomials to consider in the direct plane (both input and output)\n",
    "list_zernike_direct = list(range(14))\n",
    "\n",
    "# learning rate for the optimizer\n",
    "learning_rate = 30e-2\n",
    "\n",
    "# number of epoch to train the model\n",
    "num_epoch = 300\n",
    "\n",
    "deformation = 'scaling' # for test, do not modify"
   ]
  },
  {
   "cell_type": "markdown",
   "metadata": {},
   "source": [
    "# 3. Prepare data"
   ]
  },
  {
   "cell_type": "markdown",
   "metadata": {},
   "source": [
    "## 3.1 Select a quadrant of the pixel TM measured\n",
    "(it corresponds to one input and one output polarization)"
   ]
  },
  {
   "cell_type": "code",
   "execution_count": 8,
   "metadata": {},
   "outputs": [],
   "source": [
    "# TM_pix = TM_ref_pix[:n**2,:m**2]\n",
    "TM_pix = TM_ref_pix[n**2:,m**2:]\n",
    "# TM_pix = TM_ref_pix[n**2:,:m**2]\n",
    "# TM_pix = TM_ref_pix[:n**2,m**2:]"
   ]
  },
  {
   "cell_type": "markdown",
   "metadata": {},
   "source": [
    "## 3.2 Select device (GPU if available)"
   ]
  },
  {
   "cell_type": "code",
   "execution_count": 9,
   "metadata": {},
   "outputs": [
    {
     "name": "stdout",
     "output_type": "stream",
     "text": [
      "No GPU available, running on CPU. Will be slow.\n"
     ]
    }
   ],
   "source": [
    "device_number = 0 # if you have multiple GPUs\n",
    "if torch.cuda.is_available():\n",
    "    print(f'Using GPU: {torch.cuda.get_device_name(device_number)}')\n",
    "    device = torch.device(f'cuda:{device_number}')\n",
    "else:\n",
    "    print(f'No GPU available, running on CPU. Will be slow.')\n",
    "    device = torch.device('cpu')"
   ]
  },
  {
   "cell_type": "markdown",
   "metadata": {},
   "source": [
    "## 3.3 Prepare data for PyTorch"
   ]
  },
  {
   "cell_type": "code",
   "execution_count": 10,
   "metadata": {},
   "outputs": [],
   "source": [
    "pt_modes_in_var = Variable(\n",
    "    cpx_to_pt(modes_in.reshape((-1,m,m)), device, torch.float32),\n",
    "    requires_grad = False\n",
    ").to(device)\n",
    "\n",
    "pt_modes_out_var = Variable(\n",
    "    cpx_to_pt(modes_out.reshape((-1,n,n)), device, torch.float32),\n",
    "    requires_grad = False\n",
    ").to(device)"
   ]
  },
  {
   "cell_type": "markdown",
   "metadata": {},
   "source": [
    "# 4. Prepare optimization"
   ]
  },
  {
   "cell_type": "markdown",
   "metadata": {},
   "source": [
    "## 4.1 Initialize the model"
   ]
  },
  {
   "cell_type": "code",
   "execution_count": 11,
   "metadata": {},
   "outputs": [],
   "source": [
    "model = AberrationModes(\n",
    "    inpoints = m, \n",
    "    onpoints = n, \n",
    "    padding_coeff = padding_coeff, # if the gpu memory gets full, reduce it to just above 0\n",
    "    list_zernike_ft = list_zernike_ft,\n",
    "    list_zernike_direct = list_zernike_direct,\n",
    "    deformation = deformation\n",
    ").to(device)"
   ]
  },
  {
   "cell_type": "markdown",
   "metadata": {},
   "source": [
    "## 4.2 Define the cost function\n",
    "We want to maximize the energy of the TM projected onto the mode basis.\n",
    "\n",
    "The cost function (to minimize) is the inverse of the ratio of between \n",
    "the norm squared of the TM in the mode basis by the norm squared of the TM in the pixel basis."
   ]
  },
  {
   "cell_type": "code",
   "execution_count": 12,
   "metadata": {},
   "outputs": [],
   "source": [
    "def norm_mode_to_norm_pix(T_pix, pt_modes_out_var, pt_modes_in_var, onpoints, inpoints):\n",
    "    '''\n",
    "    Cost function to minimize.\n",
    "    It is defined as the inverse of the ratio between the norm squared of the TM\n",
    "    in the mode basis by the norm squared of the TM in the pixel basis.\n",
    "    '''\n",
    "    # reshape the change of basis matrices\n",
    "    pt_modes_out_var = pt_modes_out_var.reshape((-1,onpoints**2,2))\n",
    "    pt_modes_in_var = pt_modes_in_var.reshape((-1,inpoints**2,2))\n",
    "    # project the TM in the mode basis with the current aberration parameters\n",
    "    T_mode = complex_matmul(complex_matmul(pt_modes_out_var,T_pix),conjugate(pt_modes_in_var.permute((1,0,2))))\n",
    "    # use the ratio of energy between the projected matrix and the pixel basis\n",
    "    energy_ratio = (torch.norm(T_mode)/torch.norm(T_pix))**2 \n",
    "    # the cost function to minimize is the inverse of this quantity\n",
    "    return 1./energy_ratio\n",
    "\n",
    "loss_fn = lambda A: norm_mode_to_norm_pix(\n",
    "                                    tm_to_pt(TM_pix,device),\n",
    "                                    A[0],\n",
    "                                    A[1], \n",
    "                                    n,\n",
    "                                    m)"
   ]
  },
  {
   "cell_type": "markdown",
   "metadata": {},
   "source": [
    "## 4.3 Initialize the optimizer\n",
    "\n",
    "We use the Adam optimizer"
   ]
  },
  {
   "cell_type": "code",
   "execution_count": 13,
   "metadata": {},
   "outputs": [],
   "source": [
    "optimizer = torch.optim.Adam(\n",
    "    model.parameters(), \n",
    "    lr=learning_rate\n",
    ")"
   ]
  },
  {
   "cell_type": "markdown",
   "metadata": {},
   "source": [
    "# 5. Optimization "
   ]
  },
  {
   "cell_type": "markdown",
   "metadata": {},
   "source": [
    "## 5.1 Calculate energy criteria before optimization"
   ]
  },
  {
   "cell_type": "code",
   "execution_count": 14,
   "metadata": {},
   "outputs": [
    {
     "name": "stdout",
     "output_type": "stream",
     "text": [
      "Initial ratios: conversion = 60.230%, \t diagonal = 21.543%\n"
     ]
    }
   ],
   "source": [
    "evol_energy_ratio = []\n",
    "evol_diag_ratio = []\n",
    "evol_diag_ratio_indx = [0]\n",
    "\n",
    "\n",
    "TM_modes_before = modes_out @ TM_pix @ modes_in.T.conj()\n",
    "# ratio of energy after projection to the energy of the full pixel matrix\n",
    "energy_ratio = (np.linalg.norm(TM_modes_before)/np.linalg.norm(TM_pix))**2\n",
    "# ratio of the energy on the block diagonal (degenerate groups)\n",
    "# of the mode basis TM compared to the total energy of the mode basis TM\n",
    "energy_on_diagonal =np.linalg.norm(TM_modes_before*mask_near_degenerate)**2\n",
    "diag_ratio = energy_on_diagonal/np.linalg.norm(TM_modes_before)**2\n",
    "\n",
    "evol_energy_ratio.append(energy_ratio)\n",
    "evol_diag_ratio.append(diag_ratio)\n",
    "\n",
    "print(f\"Initial ratios: conversion = {100*energy_ratio:.3f}%, \\t diagonal = {100*diag_ratio:.3f}%\")"
   ]
  },
  {
   "cell_type": "markdown",
   "metadata": {},
   "source": [
    "## 5.2 Optimization loop"
   ]
  },
  {
   "cell_type": "code",
   "execution_count": 15,
   "metadata": {},
   "outputs": [
    {
     "name": "stderr",
     "output_type": "stream",
     "text": [
      "/opt/miniconda/envs/py36/lib/python3.6/site-packages/torch/nn/functional.py:2764: UserWarning: Default grid_sample and affine_grid behavior has changed to align_corners=False since 1.3.0. Please specify align_corners=True if the old behavior is desired. See the documentation of grid_sample for details.\n",
      "  warnings.warn(\"Default grid_sample and affine_grid behavior has changed \"\n",
      "/opt/miniconda/envs/py36/lib/python3.6/site-packages/torch/nn/functional.py:2705: UserWarning: Default grid_sample and affine_grid behavior has changed to align_corners=False since 1.3.0. Please specify align_corners=True if the old behavior is desired. See the documentation of grid_sample for details.\n",
      "  warnings.warn(\"Default grid_sample and affine_grid behavior has changed \"\n"
     ]
    },
    {
     "name": "stdout",
     "output_type": "stream",
     "text": [
      "--| epoch: 1/300 | 0.33% |--\n",
      " Current ratios: conversion = 60.230%, \t diagonal = 21.543%\n",
      "--| epoch: 11/300 | 3.67% |--\n",
      " Current ratios: conversion = 68.619%, \t diagonal = 29.251%\n",
      "--| epoch: 21/300 | 7.00% |--\n",
      " Current ratios: conversion = 78.703%, \t diagonal = 45.749%\n",
      "--| epoch: 31/300 | 10.33% |--\n",
      " Current ratios: conversion = 86.511%, \t diagonal = 71.262%\n",
      "--| epoch: 41/300 | 13.67% |--\n",
      " Current ratios: conversion = 93.033%, \t diagonal = 89.091%\n",
      "--| epoch: 51/300 | 17.00% |--\n",
      " Current ratios: conversion = 93.527%, \t diagonal = 90.952%\n",
      "--| epoch: 61/300 | 20.33% |--\n",
      " Current ratios: conversion = 93.441%, \t diagonal = 91.724%\n",
      "--| epoch: 71/300 | 23.67% |--\n",
      " Current ratios: conversion = 93.667%, \t diagonal = 90.976%\n",
      "--| epoch: 81/300 | 27.00% |--\n",
      " Current ratios: conversion = 93.743%, \t diagonal = 91.497%\n",
      "--| epoch: 91/300 | 30.33% |--\n",
      " Current ratios: conversion = 93.742%, \t diagonal = 91.923%\n",
      "--| epoch: 101/300 | 33.67% |--\n",
      " Current ratios: conversion = 93.760%, \t diagonal = 91.741%\n",
      "--| epoch: 111/300 | 37.00% |--\n",
      " Current ratios: conversion = 93.772%, \t diagonal = 91.710%\n",
      "--| epoch: 121/300 | 40.33% |--\n",
      " Current ratios: conversion = 93.779%, \t diagonal = 91.749%\n",
      "--| epoch: 131/300 | 43.67% |--\n",
      " Current ratios: conversion = 93.787%, \t diagonal = 91.756%\n",
      "--| epoch: 141/300 | 47.00% |--\n",
      " Current ratios: conversion = 93.795%, \t diagonal = 91.798%\n",
      "--| epoch: 151/300 | 50.33% |--\n",
      " Current ratios: conversion = 93.803%, \t diagonal = 91.820%\n",
      "--| epoch: 161/300 | 53.67% |--\n",
      " Current ratios: conversion = 93.811%, \t diagonal = 91.846%\n",
      "--| epoch: 171/300 | 57.00% |--\n",
      " Current ratios: conversion = 93.819%, \t diagonal = 91.880%\n",
      "--| epoch: 181/300 | 60.33% |--\n",
      " Current ratios: conversion = 93.826%, \t diagonal = 91.919%\n",
      "--| epoch: 191/300 | 63.67% |--\n",
      " Current ratios: conversion = 93.834%, \t diagonal = 91.953%\n",
      "--| epoch: 201/300 | 67.00% |--\n",
      " Current ratios: conversion = 93.841%, \t diagonal = 91.990%\n",
      "--| epoch: 211/300 | 70.33% |--\n",
      " Current ratios: conversion = 93.848%, \t diagonal = 92.027%\n",
      "--| epoch: 221/300 | 73.67% |--\n",
      " Current ratios: conversion = 93.855%, \t diagonal = 92.065%\n",
      "--| epoch: 231/300 | 77.00% |--\n",
      " Current ratios: conversion = 93.861%, \t diagonal = 92.102%\n",
      "--| epoch: 241/300 | 80.33% |--\n",
      " Current ratios: conversion = 93.867%, \t diagonal = 92.138%\n",
      "--| epoch: 251/300 | 83.67% |--\n",
      " Current ratios: conversion = 93.873%, \t diagonal = 92.173%\n",
      "--| epoch: 261/300 | 87.00% |--\n",
      " Current ratios: conversion = 93.878%, \t diagonal = 92.207%\n",
      "--| epoch: 271/300 | 90.33% |--\n",
      " Current ratios: conversion = 93.883%, \t diagonal = 92.239%\n",
      "--| epoch: 281/300 | 93.67% |--\n",
      " Current ratios: conversion = 93.887%, \t diagonal = 92.269%\n",
      "--| epoch: 291/300 | 97.00% |--\n",
      " Current ratios: conversion = 93.891%, \t diagonal = 92.299%\n",
      "--| epoch: 300/300 | 100.00% |--\n",
      " Current ratios: conversion = 93.895%, \t diagonal = 92.323%\n"
     ]
    }
   ],
   "source": [
    "# get the first guess using the initial parameters\n",
    "y_pred = model(pt_modes_in_var,pt_modes_out_var)\n",
    "\n",
    "best = 1e8 \n",
    "\n",
    "for epoch in range(num_epoch):\n",
    "\n",
    "    # infer the input and output projection matrices from the model\n",
    "    y_pred = model(pt_modes_in_var,pt_modes_out_var)\n",
    "    # normalize the input and output projection matrices\n",
    "    y_pred = [normalize(y_pred[0].reshape((-1,n**2,2)),device = device).reshape((-1,n,n,2)), \n",
    "              normalize(y_pred[1].reshape((-1,m**2,2)),device = device).reshape((-1,m,m,2))]\n",
    "\n",
    "\n",
    "    loss = loss_fn(y_pred)\n",
    "\n",
    "    optimizer.zero_grad() \n",
    "    # backward propagation done by autograd\n",
    "    loss.backward()\n",
    "\n",
    "    # update the parameters\n",
    "    optimizer.step()\n",
    "\n",
    "    evol_energy_ratio.append(1./loss.item())\n",
    "\n",
    "    if loss.item() < best :\n",
    "        best  = loss.item()\n",
    "        best_state = (model.abberation_output.state_dict(),\n",
    "                      model.abberation_input.state_dict())\n",
    "\n",
    "    # show some stats\n",
    "    if epoch % 10 == 0 or epoch == num_epoch-1:\n",
    "   \n",
    "        modes_out_corr = pt_to_cpx(y_pred[0].detach().cpu()).reshape(nmodes,-1)\n",
    "        modes_in_corr = pt_to_cpx(y_pred[1].detach().cpu()).reshape(nmodes,-1)\n",
    "        # project in the mode basis\n",
    "        TM_modes_temp = modes_out_corr @ TM_pix @ modes_in_corr.T.conj()\n",
    " \n",
    "\n",
    "        # ratio of energy after projection to the energy of the full pixel matrix\n",
    "        energy_ratio = (np.linalg.norm(TM_modes_temp)/np.linalg.norm(TM_pix))**2\n",
    "        # ratio of the energy on the block diagonal (degenerate groups)\n",
    "        # of the mode basis TM compared to the total energy of the mode basis TM\n",
    "        energy_on_diagonal =np.linalg.norm(TM_modes_temp*mask_near_degenerate)**2\n",
    "        diag_ratio = energy_on_diagonal/np.linalg.norm(TM_modes_temp)**2\n",
    "        \n",
    "        evol_diag_ratio.append(diag_ratio)\n",
    "        evol_diag_ratio_indx.append(epoch)\n",
    "        \n",
    "        print(f\"--| epoch: {epoch+1}/{num_epoch} | {100.*(epoch+1)/num_epoch:3.2f}% |--\")\n",
    "        print(f\" Current ratios: conversion = {100*energy_ratio:.3f}%, \\t diagonal = {100*diag_ratio:.3f}%\")\n",
    "modes_out_corr = pt_to_cpx(y_pred[0].detach().cpu()).reshape(nmodes,-1)\n",
    "modes_in_corr = pt_to_cpx(y_pred[1].detach().cpu()).reshape(nmodes,-1)\n",
    "TM_modes_corr = modes_out_corr @ TM_pix @ modes_in_corr.T.conj()\n"
   ]
  },
  {
   "cell_type": "markdown",
   "metadata": {},
   "source": [
    "# 6. Results"
   ]
  },
  {
   "cell_type": "markdown",
   "metadata": {},
   "source": [
    "## 6.1 Plot evolution"
   ]
  },
  {
   "cell_type": "code",
   "execution_count": 25,
   "metadata": {},
   "outputs": [
    {
     "data": {
      "application/vnd.jupyter.widget-view+json": {
       "model_id": "15fd664b19d94a58bf0f80bbb7a76b5f",
       "version_major": 2,
       "version_minor": 0
      },
      "text/plain": [
       "Canvas(toolbar=Toolbar(toolitems=[('Home', 'Reset original view', 'home', 'home'), ('Back', 'Back to previous …"
      ]
     },
     "metadata": {},
     "output_type": "display_data"
    }
   ],
   "source": [
    "plt.figure()\n",
    "plt.plot(evol_energy_ratio, label = 'Energy ratio')\n",
    "plt.plot(evol_diag_ratio_indx, evol_diag_ratio, 'r+', label = 'Diag ratio' )\n",
    "plt.legend()\n",
    "yticks = list(np.arange(0.2,1.1,0.1))\n",
    "plt.yticks(yticks,[f'{y*100:g}%' for y in yticks])\n",
    "plt.ylim([0.2,1.])\n",
    "plt.xlabel('Epochs')\n",
    "plt.ylabel('Ratio')\n",
    "plt.tight_layout()\n",
    "# plt.savefig('evolution_optimization.svg')"
   ]
  },
  {
   "cell_type": "markdown",
   "metadata": {},
   "source": [
    "## 6.2 Mode TM before and after"
   ]
  },
  {
   "cell_type": "code",
   "execution_count": 22,
   "metadata": {},
   "outputs": [
    {
     "data": {
      "application/vnd.jupyter.widget-view+json": {
       "model_id": "6397ede0cce744d798f272ae747a3343",
       "version_major": 2,
       "version_minor": 0
      },
      "text/plain": [
       "Canvas(toolbar=Toolbar(toolitems=[('Home', 'Reset original view', 'home', 'home'), ('Back', 'Back to previous …"
      ]
     },
     "metadata": {},
     "output_type": "display_data"
    },
    {
     "data": {
      "text/plain": [
       "Text(0.5, 0.98, 'Amplitude of the mode basis TM')"
      ]
     },
     "execution_count": 22,
     "metadata": {},
     "output_type": "execute_result"
    }
   ],
   "source": [
    "TM_modes_after = TM_modes_temp\n",
    "\n",
    "fig ,ax = plt.subplots(1,2, figsize = (10,5))\n",
    "ax[0].imshow(np.abs(TM_modes_before), cmap = 'gray')\n",
    "ax[0].axis('off')\n",
    "ax[0].set_title('before correction')\n",
    "ax[1].imshow(np.abs(TM_modes_after), cmap = 'gray')\n",
    "ax[1].axis('off')\n",
    "ax[1].set_title('after correction')\n",
    "fig.suptitle('Amplitude of the mode basis TM')"
   ]
  },
  {
   "cell_type": "markdown",
   "metadata": {},
   "source": [
    "## 6.3 Show Zernike coefficients"
   ]
  },
  {
   "cell_type": "code",
   "execution_count": 18,
   "metadata": {},
   "outputs": [],
   "source": [
    "best_Zernike_coeff = [getZernikeCoefs(model.abberation_output.state_dict()),\n",
    "                   getZernikeCoefs(model.abberation_input.state_dict())]"
   ]
  },
  {
   "cell_type": "code",
   "execution_count": 24,
   "metadata": {},
   "outputs": [
    {
     "data": {
      "application/vnd.jupyter.widget-view+json": {
       "model_id": "66423e2dcff04ae79fa06f8ee8d71498",
       "version_major": 2,
       "version_minor": 0
      },
      "text/plain": [
       "Canvas(toolbar=Toolbar(toolitems=[('Home', 'Reset original view', 'home', 'home'), ('Back', 'Back to previous …"
      ]
     },
     "metadata": {},
     "output_type": "display_data"
    }
   ],
   "source": [
    "showZernikeCoefs(best_Zernike_coeff[0], title = 'Input Zernike optimized coefficients')\n",
    "#plt.savefig('input_zernike.svg')"
   ]
  },
  {
   "cell_type": "code",
   "execution_count": 23,
   "metadata": {},
   "outputs": [
    {
     "data": {
      "application/vnd.jupyter.widget-view+json": {
       "model_id": "f3782d1208db4c309f51a30c231f5099",
       "version_major": 2,
       "version_minor": 0
      },
      "text/plain": [
       "Canvas(toolbar=Toolbar(toolitems=[('Home', 'Reset original view', 'home', 'home'), ('Back', 'Back to previous …"
      ]
     },
     "metadata": {},
     "output_type": "display_data"
    }
   ],
   "source": [
    "showZernikeCoefs(best_Zernike_coeff[1], title = 'Output Zernike optimized coefficients')\n",
    "#plt.savefig('output_zernike.svg')"
   ]
  }
 ],
 "metadata": {
  "kernelspec": {
   "display_name": "Python 3",
   "language": "python",
   "name": "python3"
  },
  "language_info": {
   "codemirror_mode": {
    "name": "ipython",
    "version": 3
   },
   "file_extension": ".py",
   "mimetype": "text/x-python",
   "name": "python",
   "nbconvert_exporter": "python",
   "pygments_lexer": "ipython3",
   "version": "3.6.8"
  }
 },
 "nbformat": 4,
 "nbformat_minor": 4
}
