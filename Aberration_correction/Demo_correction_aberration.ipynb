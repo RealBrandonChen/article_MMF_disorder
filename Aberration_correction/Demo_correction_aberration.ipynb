{
 "cells": [
  {
   "cell_type": "code",
   "execution_count": 1,
   "metadata": {},
   "outputs": [],
   "source": [
    "import matplotlib.pyplot as plt\n",
    "import numpy as np\n",
    "# from functions import complex_correlation, colorize, show_colormap_image\n",
    "import os\n",
    "import json\n",
    "\n",
    "# for Jupyter lab\n",
    "%matplotlib widget\n",
    "# for Jupyter notebook\n",
    "# %matplotlib notebook\n",
    "\n",
    "data_folder = '../Data/'"
   ]
  },
  {
   "cell_type": "code",
   "execution_count": 2,
   "metadata": {},
   "outputs": [],
   "source": [
    "import torch\n",
    "from torch.autograd import Variable\n",
    "\n",
    "from functions import getZernikeCoefs, showZernikeCoefs\n",
    "from PyTorchAberrations.aberration_functions import pt_to_cpx, cpx_to_pt, tm_to_pt\n",
    "from PyTorchAberrations.aberration_models import AberrationModes\n",
    "from PyTorchAberrations.aberration_functions import conjugate, complex_matmul, normalize"
   ]
  },
  {
   "cell_type": "markdown",
   "metadata": {},
   "source": [
    "# 1. Load data"
   ]
  },
  {
   "cell_type": "markdown",
   "metadata": {},
   "source": [
    "## 1.1 Load ideal mode bases "
   ]
  },
  {
   "cell_type": "code",
   "execution_count": 3,
   "metadata": {},
   "outputs": [],
   "source": [
    "path = os.path.sep.join([data_folder,'conversion_matrices.npz'])\n",
    "data_dict = np.load(path)\n",
    "modes_in = data_dict.f.modes_in\n",
    "nmodes = modes_in.shape[0]\n",
    "# number of input pixels\n",
    "m = np.int(np.sqrt(modes_in.shape[1]))\n",
    "modes_out = data_dict.f.modes_out\n",
    "# number of output pixels\n",
    "n = np.int(np.sqrt(modes_out.shape[1]))"
   ]
  },
  {
   "cell_type": "markdown",
   "metadata": {},
   "source": [
    "## 1.2 Load mask corresponding to degenerate groups of mode"
   ]
  },
  {
   "cell_type": "code",
   "execution_count": 4,
   "metadata": {},
   "outputs": [],
   "source": [
    "path = os.path.sep.join([data_folder,'mask_near_degenerate.npy'])\n",
    "mask_near_degenerate = np.load(path)"
   ]
  },
  {
   "cell_type": "markdown",
   "metadata": {},
   "source": [
    "## 1.3 Load a measured pixel basis TM"
   ]
  },
  {
   "cell_type": "code",
   "execution_count": 5,
   "metadata": {},
   "outputs": [],
   "source": [
    "# in two parts because of Github 100 Mo size limit\n",
    "file_path = os.path.sep.join([data_folder, 'TM5_0.npy'])\n",
    "part1 = np.load(file_path)\n",
    "file_path = os.path.sep.join([data_folder, 'TM5_1.npy'])\n",
    "part2 = np.load(file_path)\n",
    "TM_ref_pix = np.concatenate([part1, part2], axis = 0)\n",
    "del part1\n",
    "del part2"
   ]
  },
  {
   "cell_type": "markdown",
   "metadata": {},
   "source": [
    "# 2. Parameters"
   ]
  },
  {
   "cell_type": "code",
   "execution_count": 6,
   "metadata": {},
   "outputs": [],
   "source": [
    "# padding coefficient for FFT, float > 0.\n",
    "# the bigger, the more precise the FFT during the calculations\n",
    "padding_coeff = 0.05\n",
    "\n",
    "# list of Zernike polynomials to consider in the Fourier plane (both input and output)\n",
    "list_zernike_ft = list(range(9))\n",
    "\n",
    "# list of Zernike polynomials to consider in the direct plane (both input and output)\n",
    "list_zernike_direct = list(range(14))#14\n",
    "\n",
    "# learning rate for the optimizer\n",
    "learning_rate = 10e-2\n",
    "\n",
    "# number of epoch to train the model\n",
    "num_epoch = 500\n",
    "\n",
    "deformation = 'scaling' # for test, do not modify"
   ]
  },
  {
   "cell_type": "markdown",
   "metadata": {},
   "source": [
    "# 3. Prepare data"
   ]
  },
  {
   "cell_type": "markdown",
   "metadata": {},
   "source": [
    "## 3.1 Select a quadrant of the pixel TM measured\n",
    "(it corresponds to one input and one output polarization)"
   ]
  },
  {
   "cell_type": "code",
   "execution_count": 7,
   "metadata": {},
   "outputs": [],
   "source": [
    "# TM_pix = TM_ref_pix[:n**2,:m**2]\n",
    "TM_pix = TM_ref_pix[n**2:,m**2:]\n",
    "# TM_pix = TM_ref_pix[n**2:,:m**2]\n",
    "# TM_pix = TM_ref_pix[:n**2,m**2:]"
   ]
  },
  {
   "cell_type": "markdown",
   "metadata": {},
   "source": [
    "## 3.2 Select device (GPU if available)"
   ]
  },
  {
   "cell_type": "code",
   "execution_count": 8,
   "metadata": {},
   "outputs": [
    {
     "name": "stdout",
     "output_type": "stream",
     "text": [
      "No GPU available, running on CPU. Will be slow.\n"
     ]
    }
   ],
   "source": [
    "device_number = 0 # if you have multiple GPUs\n",
    "if torch.cuda.is_available():\n",
    "    print(f'Using GPU: {torch.cuda.get_device_name(device_number)}')\n",
    "    device = torch.device(f'cuda:{device_number}')\n",
    "else:\n",
    "    print(f'No GPU available, running on CPU. Will be slow.')\n",
    "    device = torch.device('cpu')"
   ]
  },
  {
   "cell_type": "markdown",
   "metadata": {},
   "source": [
    "## 3.3 Prepare data for PyTorch"
   ]
  },
  {
   "cell_type": "code",
   "execution_count": 9,
   "metadata": {},
   "outputs": [],
   "source": [
    "pt_modes_in_var = Variable(\n",
    "    cpx_to_pt(modes_in.reshape((-1,m,m)), device, torch.float32),\n",
    "    requires_grad = False\n",
    ").to(device)\n",
    "\n",
    "pt_modes_out_var = Variable(\n",
    "    cpx_to_pt(modes_out.reshape((-1,n,n)), device, torch.float32),\n",
    "    requires_grad = False\n",
    ").to(device)"
   ]
  },
  {
   "cell_type": "markdown",
   "metadata": {},
   "source": [
    "# 4. Prepare optimization"
   ]
  },
  {
   "cell_type": "markdown",
   "metadata": {},
   "source": [
    "## 4.1 Initialize the model"
   ]
  },
  {
   "cell_type": "code",
   "execution_count": 10,
   "metadata": {},
   "outputs": [],
   "source": [
    "model = AberrationModes(\n",
    "    inpoints = m, \n",
    "    onpoints = n, \n",
    "    padding_coeff = padding_coeff, # if the gpu memory gets full, reduce it to just above 0\n",
    "    list_zernike_ft = list_zernike_ft,\n",
    "    list_zernike_direct = list_zernike_direct,\n",
    "    deformation = deformation\n",
    ").to(device)"
   ]
  },
  {
   "cell_type": "markdown",
   "metadata": {},
   "source": [
    "## 4.2 Define the cost function\n",
    "We want to maximize the energy of the TM projected onto the mode basis.\n",
    "\n",
    "The cost function (to minimize) is the inverse of the ratio of between \n",
    "the norm squared of the TM in the mode basis by the norm squared of the TM in the pixel basis."
   ]
  },
  {
   "cell_type": "code",
   "execution_count": 11,
   "metadata": {},
   "outputs": [],
   "source": [
    "def norm_mode_to_norm_pix(T_pix, pt_modes_out_var, pt_modes_in_var, onpoints, inpoints):\n",
    "    '''\n",
    "    Cost function to minimize.\n",
    "    It is defined as the inverse of the ratio between the norm squared of the TM\n",
    "    in the mode basis by the norm squared of the TM in the pixel basis.\n",
    "    '''\n",
    "    # reshape the change of basis matrices\n",
    "    pt_modes_out_var = pt_modes_out_var.reshape((-1,onpoints**2,2))\n",
    "    pt_modes_in_var = pt_modes_in_var.reshape((-1,inpoints**2,2))\n",
    "    # project the TM in the mode basis with the current aberration parameters\n",
    "    T_mode = complex_matmul(complex_matmul(pt_modes_out_var,T_pix),conjugate(pt_modes_in_var.permute((1,0,2))))\n",
    "    # use the ratio of energy between the projected matrix and the pixel basis\n",
    "    energy_ratio = (torch.norm(T_mode)/torch.norm(T_pix))**2 \n",
    "    # the cost function to minimize is the inverse of this quantity\n",
    "    return 1./energy_ratio\n",
    "\n",
    "loss_fn = lambda A: norm_mode_to_norm_pix(\n",
    "                                    tm_to_pt(TM_pix,device),\n",
    "                                    A[0],\n",
    "                                    A[1], \n",
    "                                    n,\n",
    "                                    m)"
   ]
  },
  {
   "cell_type": "markdown",
   "metadata": {},
   "source": [
    "## 4.3 Initialize the optimizer\n",
    "\n",
    "We use the Adam optimizer"
   ]
  },
  {
   "cell_type": "code",
   "execution_count": 12,
   "metadata": {},
   "outputs": [],
   "source": [
    "optimizer = torch.optim.Adam(\n",
    "    model.parameters(), \n",
    "    lr=learning_rate, \n",
    "    betas=(0.9, 0.999), \n",
    "    eps=1e-08, \n",
    "    weight_decay=0.0, \n",
    "    amsgrad=False\n",
    ")"
   ]
  },
  {
   "cell_type": "markdown",
   "metadata": {},
   "source": [
    "# 5. Optimization "
   ]
  },
  {
   "cell_type": "markdown",
   "metadata": {},
   "source": [
    "## 5.1 Calculate energy criteria before optimization"
   ]
  },
  {
   "cell_type": "code",
   "execution_count": 13,
   "metadata": {},
   "outputs": [
    {
     "name": "stdout",
     "output_type": "stream",
     "text": [
      "Initial ratios: conversion = 60.227%, \t diagonal = 21.543%\n"
     ]
    }
   ],
   "source": [
    "evol_energy_ratio = []\n",
    "\n",
    "\n",
    "TM_modes_temp = modes_out @ TM_pix @ modes_in.T.conj()\n",
    "\n",
    "# ratio of energy after projection to the energy of the full pixel matrix\n",
    "energy_ratio = (np.linalg.norm(TM_modes_temp)/np.linalg.norm(TM_pix))**2\n",
    "# ratio of the energy on the block diagonal (degenerate groups)\n",
    "# of the mode basis TM compared to the total energy of the mode basis TM\n",
    "\n",
    "energy_on_diagonal =np.linalg.norm(TM_modes_temp*mask_near_degenerate)**2\n",
    "diag_ratio = energy_on_diagonal/np.linalg.norm(TM_modes_temp)**2\n",
    "\n",
    "evol_energy_ratio.append(energy_ratio)\n",
    "\n",
    "print(f\"Initial ratios: conversion = {100*energy_ratio:.3f}%, \\t diagonal = {100*diag_ratio:.3f}%\")"
   ]
  },
  {
   "cell_type": "markdown",
   "metadata": {},
   "source": [
    "## 5.2 Optimization loop"
   ]
  },
  {
   "cell_type": "code",
   "execution_count": 15,
   "metadata": {},
   "outputs": [
    {
     "name": "stdout",
     "output_type": "stream",
     "text": [
      "--| epoch: 1/500 | 0.20% |--\n",
      " Current ratios: conversion = 60.046%, \t diagonal = 21.661%\n",
      "--| epoch: 11/500 | 2.20% |--\n",
      " Current ratios: conversion = 64.712%, \t diagonal = 24.332%\n",
      "--| epoch: 21/500 | 4.20% |--\n",
      " Current ratios: conversion = 68.714%, \t diagonal = 27.015%\n",
      "--| epoch: 31/500 | 6.20% |--\n",
      " Current ratios: conversion = 71.851%, \t diagonal = 28.774%\n",
      "--| epoch: 41/500 | 8.20% |--\n",
      " Current ratios: conversion = 74.868%, \t diagonal = 33.574%\n",
      "--| epoch: 51/500 | 10.20% |--\n",
      " Current ratios: conversion = 77.689%, \t diagonal = 40.387%\n",
      "--| epoch: 61/500 | 12.20% |--\n",
      " Current ratios: conversion = 80.432%, \t diagonal = 47.236%\n",
      "--| epoch: 71/500 | 14.20% |--\n",
      " Current ratios: conversion = 83.270%, \t diagonal = 55.384%\n",
      "--| epoch: 81/500 | 16.20% |--\n",
      " Current ratios: conversion = 86.021%, \t diagonal = 64.303%\n",
      "--| epoch: 91/500 | 18.20% |--\n",
      " Current ratios: conversion = 88.362%, \t diagonal = 73.039%\n",
      "--| epoch: 101/500 | 20.20% |--\n",
      " Current ratios: conversion = 90.408%, \t diagonal = 80.784%\n",
      "--| epoch: 111/500 | 22.20% |--\n",
      " Current ratios: conversion = 91.867%, \t diagonal = 86.182%\n",
      "--| epoch: 121/500 | 24.20% |--\n",
      " Current ratios: conversion = 92.797%, \t diagonal = 89.310%\n",
      "--| epoch: 131/500 | 26.20% |--\n",
      " Current ratios: conversion = 93.327%, \t diagonal = 91.037%\n",
      "--| epoch: 141/500 | 28.20% |--\n",
      " Current ratios: conversion = 93.591%, \t diagonal = 91.666%\n",
      "--| epoch: 151/500 | 30.20% |--\n",
      " Current ratios: conversion = 93.705%, \t diagonal = 91.914%\n",
      "--| epoch: 161/500 | 32.20% |--\n",
      " Current ratios: conversion = 93.750%, \t diagonal = 91.967%\n",
      "--| epoch: 171/500 | 34.20% |--\n",
      " Current ratios: conversion = 93.768%, \t diagonal = 91.946%\n",
      "--| epoch: 181/500 | 36.20% |--\n",
      " Current ratios: conversion = 93.776%, \t diagonal = 91.944%\n",
      "--| epoch: 191/500 | 38.20% |--\n",
      " Current ratios: conversion = 93.782%, \t diagonal = 91.940%\n",
      "--| epoch: 201/500 | 40.20% |--\n",
      " Current ratios: conversion = 93.787%, \t diagonal = 91.943%\n",
      "--| epoch: 211/500 | 42.20% |--\n",
      " Current ratios: conversion = 93.793%, \t diagonal = 91.960%\n",
      "--| epoch: 221/500 | 44.20% |--\n",
      " Current ratios: conversion = 93.798%, \t diagonal = 91.984%\n",
      "--| epoch: 231/500 | 46.20% |--\n",
      " Current ratios: conversion = 93.804%, \t diagonal = 92.009%\n",
      "--| epoch: 241/500 | 48.20% |--\n",
      " Current ratios: conversion = 93.809%, \t diagonal = 92.032%\n",
      "--| epoch: 251/500 | 50.20% |--\n",
      " Current ratios: conversion = 93.814%, \t diagonal = 92.053%\n",
      "--| epoch: 261/500 | 52.20% |--\n",
      " Current ratios: conversion = 93.819%, \t diagonal = 92.074%\n",
      "--| epoch: 271/500 | 54.20% |--\n",
      " Current ratios: conversion = 93.824%, \t diagonal = 92.094%\n",
      "--| epoch: 281/500 | 56.20% |--\n",
      " Current ratios: conversion = 93.830%, \t diagonal = 92.114%\n",
      "--| epoch: 291/500 | 58.20% |--\n",
      " Current ratios: conversion = 93.835%, \t diagonal = 92.134%\n",
      "--| epoch: 301/500 | 60.20% |--\n",
      " Current ratios: conversion = 93.839%, \t diagonal = 92.154%\n",
      "--| epoch: 311/500 | 62.20% |--\n",
      " Current ratios: conversion = 93.844%, \t diagonal = 92.173%\n",
      "--| epoch: 321/500 | 64.20% |--\n",
      " Current ratios: conversion = 93.849%, \t diagonal = 92.192%\n",
      "--| epoch: 331/500 | 66.20% |--\n",
      " Current ratios: conversion = 93.854%, \t diagonal = 92.212%\n",
      "--| epoch: 341/500 | 68.20% |--\n",
      " Current ratios: conversion = 93.859%, \t diagonal = 92.231%\n",
      "--| epoch: 351/500 | 70.20% |--\n",
      " Current ratios: conversion = 93.863%, \t diagonal = 92.250%\n",
      "--| epoch: 361/500 | 72.20% |--\n",
      " Current ratios: conversion = 93.868%, \t diagonal = 92.269%\n",
      "--| epoch: 371/500 | 74.20% |--\n",
      " Current ratios: conversion = 93.872%, \t diagonal = 92.288%\n",
      "--| epoch: 381/500 | 76.20% |--\n",
      " Current ratios: conversion = 93.877%, \t diagonal = 92.308%\n",
      "--| epoch: 391/500 | 78.20% |--\n",
      " Current ratios: conversion = 93.881%, \t diagonal = 92.327%\n",
      "--| epoch: 401/500 | 80.20% |--\n",
      " Current ratios: conversion = 93.885%, \t diagonal = 92.346%\n",
      "--| epoch: 411/500 | 82.20% |--\n",
      " Current ratios: conversion = 93.890%, \t diagonal = 92.365%\n",
      "--| epoch: 421/500 | 84.20% |--\n",
      " Current ratios: conversion = 93.894%, \t diagonal = 92.384%\n",
      "--| epoch: 431/500 | 86.20% |--\n",
      " Current ratios: conversion = 93.898%, \t diagonal = 92.404%\n",
      "--| epoch: 441/500 | 88.20% |--\n",
      " Current ratios: conversion = 93.902%, \t diagonal = 92.423%\n",
      "--| epoch: 451/500 | 90.20% |--\n",
      " Current ratios: conversion = 93.906%, \t diagonal = 92.443%\n",
      "--| epoch: 461/500 | 92.20% |--\n",
      " Current ratios: conversion = 93.910%, \t diagonal = 92.463%\n",
      "--| epoch: 471/500 | 94.20% |--\n",
      " Current ratios: conversion = 93.913%, \t diagonal = 92.482%\n",
      "--| epoch: 481/500 | 96.20% |--\n",
      " Current ratios: conversion = 93.917%, \t diagonal = 92.502%\n",
      "--| epoch: 491/500 | 98.20% |--\n",
      " Current ratios: conversion = 93.921%, \t diagonal = 92.522%\n"
     ]
    }
   ],
   "source": [
    "# get the first guess using the initial parameters\n",
    "y_pred = model(pt_modes_in_var,pt_modes_out_var)\n",
    "\n",
    "best = 1e8 \n",
    "\n",
    "for epoch in range(num_epoch):\n",
    "\n",
    "    # infer the input and output projection matrices from the model\n",
    "    y_pred = model(pt_modes_in_var,pt_modes_out_var)\n",
    "    # normalize the input and output projection matrices\n",
    "    y_pred = [normalize(y_pred[0].reshape((-1,n**2,2)),device = device).reshape((-1,n,n,2)), \n",
    "              normalize(y_pred[1].reshape((-1,m**2,2)),device = device).reshape((-1,m,m,2))]\n",
    "\n",
    "\n",
    "    loss = loss_fn(y_pred)\n",
    "\n",
    "    optimizer.zero_grad() \n",
    "    # backward propagation done by autograd\n",
    "    loss.backward()\n",
    "\n",
    "    # update the parameters\n",
    "    optimizer.step()\n",
    "\n",
    "    evol_energy_ratio.append(1./loss.item())\n",
    "\n",
    "    if loss.item() < best :\n",
    "        best  = loss.item()\n",
    "        best_state = (model.abberation_output.state_dict(),\n",
    "                      model.abberation_input.state_dict())\n",
    "\n",
    "    # show some stats\n",
    "    if epoch % 10 == 0:\n",
    "   \n",
    "        modes_out_corr = pt_to_cpx(y_pred[0].detach().cpu()).reshape(nmodes,-1)\n",
    "        modes_in_corr = pt_to_cpx(y_pred[1].detach().cpu()).reshape(nmodes,-1)\n",
    "        # project in the mode basis\n",
    "        TM_modes_temp = modes_out_corr @ TM_pix @ modes_in_corr.T.conj()\n",
    " \n",
    "\n",
    "        # ratio of energy after projection to the energy of the full pixel matrix\n",
    "        energy_ratio = (np.linalg.norm(TM_modes_temp)/np.linalg.norm(TM_pix))**2\n",
    "        # ratio of the energy on the block diagonal (degenerate groups)\n",
    "        # of the mode basis TM compared to the total energy of the mode basis TM\n",
    "        \n",
    "        energy_on_diagonal =np.linalg.norm(TM_modes_temp*mask_near_degenerate)**2\n",
    "        diag_ratio = energy_on_diagonal/np.linalg.norm(TM_modes_temp)**2\n",
    "        print(f\"--| epoch: {epoch+1}/{num_epoch} | {100.*(epoch+1)/num_epoch:3.2f}% |--\")\n",
    "        print(f\" Current ratios: conversion = {100*energy_ratio:.3f}%, \\t diagonal = {100*diag_ratio:.3f}%\")\n",
    "modes_out_corr = pt_to_cpx(y_pred[0].detach().cpu()).reshape(nmodes,-1)\n",
    "modes_in_corr = pt_to_cpx(y_pred[1].detach().cpu()).reshape(nmodes,-1)\n",
    "TM_modes_corr = modes_out_corr @ TM_pix @ modes_in_corr.T.conj()\n"
   ]
  },
  {
   "cell_type": "markdown",
   "metadata": {},
   "source": [
    "# 6. Results"
   ]
  },
  {
   "cell_type": "markdown",
   "metadata": {},
   "source": [
    "## 6.1 Mode TM before and after"
   ]
  },
  {
   "cell_type": "code",
   "execution_count": 18,
   "metadata": {},
   "outputs": [
    {
     "data": {
      "application/vnd.jupyter.widget-view+json": {
       "model_id": "4c03adefcd6f4e21b5e5ab4bc61fbfaa",
       "version_major": 2,
       "version_minor": 0
      },
      "text/plain": [
       "Canvas(toolbar=Toolbar(toolitems=[('Home', 'Reset original view', 'home', 'home'), ('Back', 'Back to previous …"
      ]
     },
     "metadata": {},
     "output_type": "display_data"
    },
    {
     "data": {
      "text/plain": [
       "[<matplotlib.lines.Line2D at 0x7fc0fa4c50b8>]"
      ]
     },
     "execution_count": 18,
     "metadata": {},
     "output_type": "execute_result"
    }
   ],
   "source": [
    "plt.figure()\n",
    "plt.plot(evol_energy_ratio)"
   ]
  },
  {
   "cell_type": "markdown",
   "metadata": {},
   "source": [
    "## 6.2 Show Zernike coefficients"
   ]
  },
  {
   "cell_type": "code",
   "execution_count": 19,
   "metadata": {},
   "outputs": [],
   "source": [
    "best_Zernike_coeff = [getZernikeCoefs(model.abberation_output.state_dict()),\n",
    "                   getZernikeCoefs(model.abberation_input.state_dict())]"
   ]
  },
  {
   "cell_type": "code",
   "execution_count": 20,
   "metadata": {},
   "outputs": [
    {
     "data": {
      "application/vnd.jupyter.widget-view+json": {
       "model_id": "7209c65938984d51816d3cae4cb61963",
       "version_major": 2,
       "version_minor": 0
      },
      "text/plain": [
       "Canvas(toolbar=Toolbar(toolitems=[('Home', 'Reset original view', 'home', 'home'), ('Back', 'Back to previous …"
      ]
     },
     "metadata": {},
     "output_type": "display_data"
    },
    {
     "data": {
      "text/plain": [
       "(<Figure size 1200x700 with 2 Axes>,\n",
       " <matplotlib.axes._subplots.AxesSubplot at 0x7fc0fa47ac18>,\n",
       " [4, 12])"
      ]
     },
     "execution_count": 20,
     "metadata": {},
     "output_type": "execute_result"
    }
   ],
   "source": [
    "showZernikeCoefs(best_Zernike_coeff[1])"
   ]
  },
  {
   "cell_type": "code",
   "execution_count": null,
   "metadata": {},
   "outputs": [],
   "source": []
  }
 ],
 "metadata": {
  "kernelspec": {
   "display_name": "Python 3",
   "language": "python",
   "name": "python3"
  },
  "language_info": {
   "codemirror_mode": {
    "name": "ipython",
    "version": 3
   },
   "file_extension": ".py",
   "mimetype": "text/x-python",
   "name": "python",
   "nbconvert_exporter": "python",
   "pygments_lexer": "ipython3",
   "version": "3.6.8"
  }
 },
 "nbformat": 4,
 "nbformat_minor": 4
}
