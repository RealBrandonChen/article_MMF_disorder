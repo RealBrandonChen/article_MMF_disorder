{
 "cells": [
  {
   "cell_type": "code",
   "execution_count": 1,
   "metadata": {},
   "outputs": [],
   "source": [
    "import matplotlib\n",
    "import matplotlib.pyplot as plt\n",
    "import numpy as np\n",
    "import json\n",
    "from functions import complex_correlation, colorize\n",
    "\n",
    "# for Jupyter lab\n",
    "%matplotlib widget\n",
    "# for Jupyter notebook\n",
    "# %matplotlib notebook\n",
    "\n",
    "data_folder = 'data'\n",
    "\n",
    "SMALL_SIZE = 16\n",
    "MEDIUM_SIZE = 16\n",
    "BIGGER_SIZE = 18\n",
    "\n",
    "plt.rc('font', size=SMALL_SIZE)          # controls default text sizes\n",
    "plt.rc('axes', titlesize=SMALL_SIZE)     # fontsize of the axes title\n",
    "plt.rc('axes', labelsize=MEDIUM_SIZE)    # fontsize of the x and y labels\n",
    "plt.rc('xtick', labelsize=SMALL_SIZE)    # fontsize of the tick labels\n",
    "plt.rc('ytick', labelsize=SMALL_SIZE)    # fontsize of the tick labels\n",
    "plt.rc('legend', fontsize=SMALL_SIZE)    # legend fontsize\n",
    "plt.rc('figure', titlesize=BIGGER_SIZE)  # fontsize of the figure title"
   ]
  },
  {
   "cell_type": "code",
   "execution_count": 2,
   "metadata": {},
   "outputs": [],
   "source": [
    "from matplotlib import colors\n",
    "\n",
    "def get_color_map(n):\n",
    "    cdict = {'red':   ((0.0,  0.3, 0.3),\n",
    "                       (1.0,  1.0, 1.0)),\n",
    "\n",
    "             'green': ((0.0,  0.1, 0.1),\n",
    "                       (1.,  0., 0.)),\n",
    "\n",
    "             'blue':  ((0.0,  0.0, 0.0),\n",
    "                       (1.0,  0.0, 0.0))}\n",
    "    cmap = colors.LinearSegmentedColormap('custom', cdict, N=n)\n",
    "    return cmap"
   ]
  },
  {
   "cell_type": "markdown",
   "metadata": {},
   "source": [
    "# 1. First load the params and data"
   ]
  },
  {
   "cell_type": "markdown",
   "metadata": {},
   "source": [
    "## Load parameters"
   ]
  },
  {
   "cell_type": "code",
   "execution_count": 4,
   "metadata": {},
   "outputs": [
    {
     "name": "stdout",
     "output_type": "stream",
     "text": [
      "Succesfully loaded params of no pressure exp from json file\n"
     ]
    }
   ],
   "source": [
    "save_path = '../Data/'\n",
    "with open(save_path + 'param.json','r') as f:\n",
    "    param = json.load(f)\n",
    "    print('Succesfully loaded params of no pressure exp from json file')"
   ]
  },
  {
   "cell_type": "markdown",
   "metadata": {},
   "source": [
    "## Load theoretical modes"
   ]
  },
  {
   "cell_type": "code",
   "execution_count": 6,
   "metadata": {},
   "outputs": [],
   "source": [
    "b = np.load(save_path+ 'conversion_matrices.npz')\n",
    "modes_in = b.f.modes_in\n",
    "modes_in_full = np.kron(np.array([[1,0],[0,1]]),modes_in)#np.concatenate((modes_in,modes_in),axis = 0)\n",
    "n = np.int(np.sqrt(modes_in.shape[1]))\n",
    "modes_out = b.f.modes_out\n",
    "modes_out_full = np.kron(np.array([[1,0],[0,1]]),modes_out)#np.concatenate((modes_out,modes_out),axis = 0)\n",
    "m = np.int(np.sqrt(modes_out.shape[1]))"
   ]
  },
  {
   "cell_type": "markdown",
   "metadata": {},
   "source": [
    "## Load the TMs"
   ]
  },
  {
   "cell_type": "code",
   "execution_count": 9,
   "metadata": {},
   "outputs": [],
   "source": [
    "TM_modes = []\n",
    "for i, pos in enumerate(param['Translation']['steps_pressure']):\n",
    "    filename = save_path + 'TM_modes_'+ str(pos) + '.npz'\n",
    "    #np.savez_compressed(filename, TM_corr_modes=TM_corr_modes)\n",
    "    b = np.load(filename)\n",
    "    TM_modes.append(b.f.TM_corr_modes)\n",
    "TM_modes = np.array(TM_modes)"
   ]
  },
  {
   "cell_type": "markdown",
   "metadata": {},
   "source": [
    "# 4. Channels robust to deformation"
   ]
  },
  {
   "cell_type": "code",
   "execution_count": 10,
   "metadata": {},
   "outputs": [
    {
     "name": "stdout",
     "output_type": "stream",
     "text": [
      "[0.00276899 0.00268304 0.00263523 0.00261299 0.00257245 0.00255955\n",
      " 0.00253043 0.0025137  0.0025039  0.00247709]\n"
     ]
    },
    {
     "data": {
      "application/vnd.jupyter.widget-view+json": {
       "model_id": "b654eb908e4a48298866afdb5f2fc6fa",
       "version_major": 2,
       "version_minor": 0
      },
      "text/plain": [
       "Canvas(toolbar=Toolbar(toolitems=[('Home', 'Reset original view', 'home', 'home'), ('Back', 'Back to previous …"
      ]
     },
     "metadata": {},
     "output_type": "display_data"
    },
    {
     "data": {
      "text/plain": [
       "(<Figure size 640x480 with 1 Axes>,\n",
       " <matplotlib.image.AxesImage at 0x7fdfafea3668>)"
      ]
     },
     "execution_count": 10,
     "metadata": {},
     "output_type": "execute_result"
    }
   ],
   "source": [
    "def pca_inv(H,n1,n0=0):\n",
    "    u,s,vh = np.linalg.svd(H)\n",
    "    print(s[:10])\n",
    "    s2 = np.zeros_like(s)\n",
    "    s2[n0:n1] = 1./s[n0:n1]\n",
    "    return vh.transpose().conjugate() @ np.diag(s2) @ u.transpose().conjugate() \n",
    "\n",
    "def get_WS(H0,H1,H2):\n",
    "#     H1 = remove_global_phase(H1)\n",
    "#     H2 = remove_global_phase(H2)\n",
    "#     H0 = remove_global_phase(H0)\n",
    "    dH = (H2 - H0)*0.5\n",
    "    WS = -1j*pca_inv(H1,110)@dH\n",
    "#     WS = -1j*dH\n",
    "#     WS = -1j * np.linalg.pinv(H1,rcond = 0.5) @ dH\n",
    "#     WS = -1j * H1.transpose().conjugate() @ dH\n",
    "#     u,s,v = np.linalg.svd(np.linalg.pinv(TM1,rcond = 0.5))\n",
    "#     plt.figure(),plt.plot(s,'+')\n",
    "    return WS\n",
    "\n",
    "def get_WS_symm(H0,H1,H2):\n",
    "    WS = get_WS(H0,H1,H2)\n",
    "    WS_symm = WS + WS.T.conj()\n",
    "    return WS_symm\n",
    "\n",
    "#compute WS symmetric\n",
    "TMs = TM_modes\n",
    "# TMs = evolutionTMs\n",
    "\n",
    "center_TM_index = 24\n",
    "step = 4\n",
    "WS_symm = get_WS_symm(TMs[center_TM_index - step], \n",
    "                      TMs[center_TM_index], \n",
    "                      TMs[center_TM_index + step])\n",
    "plt.figure(),plt.imshow(np.abs(WS_symm))"
   ]
  },
  {
   "cell_type": "code",
   "execution_count": 31,
   "metadata": {},
   "outputs": [],
   "source": [
    "# def pca_inv(H,n):\n",
    "#     u,s,vh = np.linalg.svd(H)\n",
    "#     print(s[:10])\n",
    "#     s2 = np.zeros_like(s)\n",
    "#     s2[:n] = 1./s[:n]\n",
    "#     return vh.transpose().conjugate() @ np.diag(s2) @ u.transpose().conjugate() \n",
    "\n",
    "# def get_WS(Hm1,H0,H1):\n",
    "# #     H1 = remove_global_phase(H1)\n",
    "# #     H2 = remove_global_phase(H2)\n",
    "# #     H0 = remove_global_phase(H0)\n",
    "#     dH = (H1 - Hm1)*0.5\n",
    "#     WS = -1j*pca_inv(H0,100)@dH\n",
    "# #     WS = -1j * np.linalg.pinv(H1,rcond = 0.5) @ dH\n",
    "# #     WS = -1j * H1.transpose().conjugate() @ dH\n",
    "# #     u,s,v = np.linalg.svd(np.linalg.pinv(TM1,rcond = 0.5))\n",
    "# #     plt.figure(),plt.plot(s,'+')\n",
    "#     return WS\n",
    "\n",
    "# def get_WS(H0,H1,H2,Hm1, Hm2):\n",
    "# #     H1 = remove_global_phase(H1)\n",
    "# #     H2 = remove_global_phase(H2)\n",
    "# #     H0 = remove_global_phase(H0)\n",
    "# #     dH = (H2 - H0)*0.5\n",
    "#     c = np.array([-1,8,-8,1])/12\n",
    "#     dH = c[0]*H2 + c[1]*H1+c[2]*Hm1+c[3]*Hm2\n",
    "#     WS = -1j*pca_inv(H1,110)@dH\n",
    "# #     WS = -1j * np.linalg.pinv(H1,rcond = 0.5) @ dH\n",
    "# #     WS = -1j * H1.transpose().conjugate() @ dH\n",
    "# #     u,s,v = np.linalg.svd(np.linalg.pinv(TM1,rcond = 0.5))\n",
    "# #     plt.figure(),plt.plot(s,'+')\n",
    "#     return WS\n",
    "\n",
    "\n",
    "# def get_WS_symm(*args,**kwargs):\n",
    "#     WS = get_WS(*args, **kwargs)\n",
    "#     WS_symm = WS + WS.T.conj()\n",
    "#     return WS_symm\n",
    "\n",
    "# center_TM_index = 24\n",
    "# step = 1\n",
    "\n",
    "# WS_symm = get_WS_symm(TM_modes[center_TM_index], \n",
    "#                       TM_modes[center_TM_index + step], \n",
    "#                       TM_modes[center_TM_index + 2*step], \n",
    "#                       TM_modes[center_TM_index - step],\n",
    "#                       TM_modes[center_TM_index - 2*step])\n",
    "\n",
    "# plt.figure(),plt.imshow(np.abs(WS_symm))"
   ]
  },
  {
   "cell_type": "code",
   "execution_count": 11,
   "metadata": {},
   "outputs": [],
   "source": [
    "a,b = np.linalg.eig(WS_symm)\n",
    "a = a[np.argsort(a)]\n",
    "b = b[np.argsort(a),:]\n",
    "\n",
    "# plt.figure()\n",
    "# plt.plot(a)"
   ]
  },
  {
   "cell_type": "code",
   "execution_count": 12,
   "metadata": {},
   "outputs": [],
   "source": [
    "def get_out_states(in_modes, i0, i1):\n",
    "#     in_pix = modes_in_full.transpose()@in_modes\n",
    "#     in_pix_p1 = in_pix[:n**2].reshape([n]*2)\n",
    "#     in_pix_p2 = in_pix[n**2:].reshape([n]*2)\n",
    "    output_state = TMs[i0] @ in_modes\n",
    "    out_pix = modes_out_full.transpose()@output_state\n",
    "    out_pix_p1_0 = out_pix[:m**2].reshape([m]*2)\n",
    "    out_pix_p2_0 = out_pix[m**2:].reshape([m]*2)\n",
    "#     output_states_WS = [TMs[i] @ state_WS for i in range(len(TMs))]\n",
    "    output_state = TMs[i1] @ in_modes\n",
    "    out_pix = modes_out_full.transpose()@output_state\n",
    "    out_pix_p1_f = out_pix[:m**2].reshape([m]*2)\n",
    "    out_pix_p2_f = out_pix[m**2:].reshape([m]*2)\n",
    "    \n",
    "    return out_pix_p1_0, out_pix_p2_0, out_pix_p1_f, out_pix_p2_f\n",
    "\n",
    "def get_correlation_state(in_modes, indexes, index_reference):\n",
    "    corr_vector = []\n",
    "    f = lambda x: np.abs(x)**2\n",
    "#     f = lambda x: x\n",
    "    for ind in indexes:\n",
    "        out_pix_p1_0, out_pix_p2_0, out_pix_p1_f, out_pix_p2_f = get_out_states(in_modes, i0 = index_reference, i1 = ind)\n",
    "        out_0 = np.concatenate([out_pix_p1_0,out_pix_p2_0])\n",
    "        out_f = np.concatenate([out_pix_p1_f,out_pix_p2_f])\n",
    "#         print(out.shape)\n",
    "        corr_vector.append(complex_correlation(f(out_0),f(out_f)))\n",
    "    return corr_vector\n",
    "        "
   ]
  },
  {
   "cell_type": "code",
   "execution_count": 34,
   "metadata": {},
   "outputs": [],
   "source": [
    "Nmodes = TM_modes[0].shape[0]//2\n",
    "n_eig_to_show = 2*Nmodes\n",
    "eig_step = 1\n",
    "# index_eig =  list(range(0,n_eig_to_show,eig_step)) + list(range(2*Nmodes-n_eig_to_show,2*Nmodes,eig_step))\n",
    "index_eig =  list(range(0,n_eig_to_show,eig_step))\n",
    "index_reference = center_TM_index\n",
    "\n",
    "index_modes_to_show = list(range(1))\n",
    "\n",
    "indexes = list(range(len(TMs)))\n",
    "\n",
    "correlations_WS = []\n",
    "for ind in index_eig:\n",
    "    state_WS = b[:,ind] # use WS eigen vector\n",
    "#     output_states_WS = [TMs[i] @ state_WS for i in range(len(TMs))]\n",
    "#     correlations_WS.append([complex_correlation(output_states_WS[i],output_states_WS[index_reference]) for i in range(len(TMs))])\n",
    "    correlations_WS.append(get_correlation_state(state_WS, \n",
    "                                                 indexes = indexes, \n",
    "                                                 index_reference = index_reference))\n",
    "\n",
    "correlations_mode = []\n",
    "for ind in index_modes_to_show:\n",
    "    state = np.zeros(110, dtype = np.complex) # use the modes \n",
    "    state[55+ind] = 1\n",
    "#     state[ind] = 1\n",
    "    # state[56] = 1\n",
    "    # output_states_mode = [TMs[i] @ state for i in range(len(TMs))]\n",
    "    # correlations_mode = [complex_correlation(output_states_mode[i],output_states_mode[index_reference]) for i in range(len(TMs))]\n",
    "    correlations_mode.append(get_correlation_state(state, indexes = indexes, index_reference = index_reference))\n",
    "# output_states_optim = [TM_modes[i] @ state_retard_optimization for i in range(len(TM_modes))]\n",
    "# correlations_optim = [checkComplexCorrelation(output_states_optim[i],output_states_optim[0]) for i in range(len(TM_modes))]\n",
    "\n",
    "correlations_rand_avg = np.zeros(len(TMs))\n",
    "for j in range(20):\n",
    "    rand_vec = (np.random.rand(110)-0.5) + 1j * (np.random.rand(110)-0.5)\n",
    "    output_states_rand = [TMs[i] @ rand_vec for i in range(len(TMs))]\n",
    "    correlations_rand = np.array([complex_correlation(output_states_rand[i],output_states_rand[index_reference]) for i in range(len(TMs))])\n",
    "    correlations_rand_avg += correlations_rand\n",
    "correlations_rand_avg /= 20"
   ]
  },
  {
   "cell_type": "code",
   "execution_count": 35,
   "metadata": {},
   "outputs": [
    {
     "data": {
      "text/plain": [
       "0.9458800940705596"
      ]
     },
     "execution_count": 35,
     "metadata": {},
     "output_type": "execute_result"
    }
   ],
   "source": [
    "max_ind = np.argmax([c[-1] for c in correlations_WS])\n",
    "np.min(correlations_WS[max_ind][19:])"
   ]
  },
  {
   "cell_type": "code",
   "execution_count": 37,
   "metadata": {},
   "outputs": [
    {
     "data": {
      "application/vnd.jupyter.widget-view+json": {
       "model_id": "7c565e815b7649fc8672b171249766c3",
       "version_major": 2,
       "version_minor": 0
      },
      "text/plain": [
       "Canvas(toolbar=Toolbar(toolitems=[('Home', 'Reset original view', 'home', 'home'), ('Back', 'Back to previous …"
      ]
     },
     "metadata": {},
     "output_type": "display_data"
    }
   ],
   "source": [
    "i0 = 15\n",
    "index_dx0 = 17\n",
    "plt.close('all')\n",
    "plt.figure()\n",
    "dx = (np.array(param['Translation']['steps_pressure'])-param['Translation']['steps_pressure'][index_dx0])*1e3\n",
    "cmap = get_color_map(n = n_eig_to_show)\n",
    "\n",
    "# plt.figure(),plt.plot(dx[i0:],correlations_mode[i0:], color = 'darkgreen', marker='+')\n",
    "for i,corr_WS in enumerate(correlations_WS):\n",
    "    plt.plot(dx[i0:],corr_WS[i0:],color = cmap(i))\n",
    "    \n",
    "for i,corr_WS in enumerate(correlations_mode):\n",
    "    plt.plot(dx[i0:],correlations_mode[i][i0:], color = 'darkgreen', marker='+')\n",
    "\n",
    "plt.plot(dx[i0:],correlations_rand_avg[i0:],'b+-')\n",
    "\n",
    "all_min = plt.gca().get_ylim()[0]\n",
    "plt.vlines(dx[center_TM_index],all_min,1., 'r', linestyles = 'dashed')\n",
    "\n",
    "# plt.plot(x,correlations_optim[i0:],'m+')\n",
    "# plt.legend(['Fundamental mode', 'random mode', 'WS eigenvector','optimization'])\n",
    "plt.legend(['Fondamental mode', 'Rnd wavefront', 'WS'])\n",
    "plt.xlabel('Deformation in microns')\n",
    "plt.ylabel('Correlation')\n",
    "\n",
    "plt.savefig('WS_corr.svg')\n",
    "\n",
    "\n"
   ]
  },
  {
   "cell_type": "code",
   "execution_count": 38,
   "metadata": {},
   "outputs": [
    {
     "data": {
      "text/plain": [
       "70.00000000000028"
      ]
     },
     "execution_count": 38,
     "metadata": {},
     "output_type": "execute_result"
    }
   ],
   "source": [
    "dx[-1]"
   ]
  },
  {
   "cell_type": "code",
   "execution_count": 39,
   "metadata": {},
   "outputs": [
    {
     "data": {
      "application/vnd.jupyter.widget-view+json": {
       "model_id": "5516710855c749dfbcb8c298d80f28b5",
       "version_major": 2,
       "version_minor": 0
      },
      "text/plain": [
       "Canvas(toolbar=Toolbar(toolitems=[('Home', 'Reset original view', 'home', 'home'), ('Back', 'Back to previous …"
      ]
     },
     "metadata": {},
     "output_type": "display_data"
    },
    {
     "data": {
      "application/vnd.jupyter.widget-view+json": {
       "model_id": "f580bb6f21be421f8c619a6e4d11e6fd",
       "version_major": 2,
       "version_minor": 0
      },
      "text/plain": [
       "Canvas(toolbar=Toolbar(toolitems=[('Home', 'Reset original view', 'home', 'home'), ('Back', 'Back to previous …"
      ]
     },
     "metadata": {},
     "output_type": "display_data"
    }
   ],
   "source": [
    "in_state = np.zeros(110) # use the modes \n",
    "in_state[0] = 1\n",
    "\n",
    "# to_img = colorize\n",
    "to_img = lambda x: np.abs(x)**2\n",
    "cmap = 'gray'\n",
    "\n",
    "out_pix_p1_0, out_pix_p2_0, out_pix_p1_f, out_pix_p2_f = get_out_states(in_state,\n",
    "                                                                       i0 = index_dx0,\n",
    "                                                                       i1 = -1)\n",
    "out_0 = to_img(np.concatenate([out_pix_p1_0,out_pix_p2_0]))\n",
    "out_f = to_img(np.concatenate([out_pix_p1_f,out_pix_p2_f]))\n",
    "corr = complex_correlation(out_0,out_f)\n",
    "\n",
    "plt.figure()\n",
    "plt.subplot(221)\n",
    "plt.imshow(to_img(out_pix_p1_0), cmap = cmap)\n",
    "plt.title('Dx = 0')\n",
    "plt.axis('off')\n",
    "plt.subplot(223)\n",
    "plt.imshow(to_img(out_pix_p2_0), cmap = cmap)\n",
    "plt.axis('off')\n",
    "\n",
    "plt.subplot(222)\n",
    "plt.imshow(to_img(out_pix_p1_f), cmap = cmap)\n",
    "plt.title('Dx = max')\n",
    "plt.axis('off')\n",
    "plt.subplot(224)\n",
    "plt.imshow(to_img(out_pix_p2_f), cmap = cmap)\n",
    "plt.axis('off')\n",
    "\n",
    "plt.suptitle(f'Pearson correlation coefficient = {corr:.2f}%')\n",
    "plt.savefig('fundamental_mode.svg')\n",
    "\n",
    "rand_vec = (np.random.rand(110)-0.5) + 1j * (np.random.rand(110)-0.5)\n",
    "\n",
    "out_pix_p1_0, out_pix_p2_0, out_pix_p1_f, out_pix_p2_f = get_out_states(rand_vec,\n",
    "                                                                       i0 = index_dx0,\n",
    "                                                                       i1 = -1)\n",
    "out_0 = to_img(np.concatenate([out_pix_p1_0,out_pix_p2_0]))\n",
    "out_f = to_img(np.concatenate([out_pix_p1_f,out_pix_p2_f]))\n",
    "corr = complex_correlation(out_0,out_f)\n",
    "\n",
    "plt.figure()\n",
    "plt.subplot(221)\n",
    "plt.imshow(to_img(out_pix_p1_0), cmap = cmap)\n",
    "plt.title('Dx = 0')\n",
    "plt.axis('off')\n",
    "plt.subplot(223)\n",
    "plt.imshow(to_img(out_pix_p2_0), cmap = cmap)\n",
    "plt.axis('off')\n",
    "\n",
    "plt.subplot(222)\n",
    "plt.imshow(to_img(out_pix_p1_f), cmap = cmap)\n",
    "plt.title('Dx = max')\n",
    "plt.axis('off')\n",
    "plt.subplot(224)\n",
    "plt.imshow(to_img(out_pix_p2_f), cmap = cmap)\n",
    "plt.axis('off')\n",
    "\n",
    "plt.suptitle(f'Pearson correlation coefficient = {corr:.2f}%')\n",
    "plt.savefig('rand.svg')\n"
   ]
  },
  {
   "cell_type": "code",
   "execution_count": 40,
   "metadata": {},
   "outputs": [
    {
     "data": {
      "application/vnd.jupyter.widget-view+json": {
       "model_id": "c87eb192a52d4d45a51a883031f9fe6a",
       "version_major": 2,
       "version_minor": 0
      },
      "text/plain": [
       "Canvas(toolbar=Toolbar(toolitems=[('Home', 'Reset original view', 'home', 'home'), ('Back', 'Back to previous …"
      ]
     },
     "metadata": {},
     "output_type": "display_data"
    },
    {
     "data": {
      "application/vnd.jupyter.widget-view+json": {
       "model_id": "2c32dac98fcc4a09a37bac13ebedc2a2",
       "version_major": 2,
       "version_minor": 0
      },
      "text/plain": [
       "Canvas(toolbar=Toolbar(toolitems=[('Home', 'Reset original view', 'home', 'home'), ('Back', 'Back to previous …"
      ]
     },
     "metadata": {},
     "output_type": "display_data"
    },
    {
     "data": {
      "application/vnd.jupyter.widget-view+json": {
       "model_id": "f5f0937bb88a49b89f1bb21b0c87f042",
       "version_major": 2,
       "version_minor": 0
      },
      "text/plain": [
       "Canvas(toolbar=Toolbar(toolitems=[('Home', 'Reset original view', 'home', 'home'), ('Back', 'Back to previous …"
      ]
     },
     "metadata": {},
     "output_type": "display_data"
    },
    {
     "data": {
      "application/vnd.jupyter.widget-view+json": {
       "model_id": "f7b69dfd2c514980971f8fe54aa260d3",
       "version_major": 2,
       "version_minor": 0
      },
      "text/plain": [
       "Canvas(toolbar=Toolbar(toolitems=[('Home', 'Reset original view', 'home', 'home'), ('Back', 'Back to previous …"
      ]
     },
     "metadata": {},
     "output_type": "display_data"
    },
    {
     "data": {
      "application/vnd.jupyter.widget-view+json": {
       "model_id": "c981df72da7e42f9891a979a795a1380",
       "version_major": 2,
       "version_minor": 0
      },
      "text/plain": [
       "Canvas(toolbar=Toolbar(toolitems=[('Home', 'Reset original view', 'home', 'home'), ('Back', 'Back to previous …"
      ]
     },
     "metadata": {},
     "output_type": "display_data"
    },
    {
     "data": {
      "application/vnd.jupyter.widget-view+json": {
       "model_id": "3fc3a80698774ebe937f8de612a888b5",
       "version_major": 2,
       "version_minor": 0
      },
      "text/plain": [
       "Canvas(toolbar=Toolbar(toolitems=[('Home', 'Reset original view', 'home', 'home'), ('Back', 'Back to previous …"
      ]
     },
     "metadata": {},
     "output_type": "display_data"
    },
    {
     "data": {
      "application/vnd.jupyter.widget-view+json": {
       "model_id": "fa310fc59a5e46d28789f9ccc352ee98",
       "version_major": 2,
       "version_minor": 0
      },
      "text/plain": [
       "Canvas(toolbar=Toolbar(toolitems=[('Home', 'Reset original view', 'home', 'home'), ('Back', 'Back to previous …"
      ]
     },
     "metadata": {},
     "output_type": "display_data"
    }
   ],
   "source": [
    "max_ind = np.argmax([c[-1] for c in correlations_WS])\n",
    "cmap = 'gray'\n",
    "# to_img = colorize\n",
    "to_img = lambda x: np.abs(x)**2\n",
    "\n",
    "for ind in list(range(6))+[index_eig[max_ind]]:\n",
    "    state_WS = b[:,ind] # use WS eigen vector\n",
    "    out_pix_p1_0, out_pix_p2_0, out_pix_p1_f, out_pix_p2_f =  get_out_states(state_WS,\n",
    "                                                                   i0 = index_dx0,\n",
    "                                                                   i1 = -1)\n",
    "    \n",
    "    max_1 = np.max([np.max(to_img(out_pix_p1_0)),np.max(to_img(out_pix_p1_f))])\n",
    "    max_2 = np.max([np.max(to_img(out_pix_p2_0)),np.max(to_img(out_pix_p2_f))])\n",
    "    \n",
    "    plt.figure()\n",
    "    plt.subplot(221)\n",
    "    plt.imshow(to_img(out_pix_p1_0), vmax = max_1, cmap = cmap)\n",
    "    plt.title('Input')\n",
    "    plt.axis('off')\n",
    "    plt.subplot(223)\n",
    "    plt.imshow(to_img(out_pix_p2_0), vmax = max_2, cmap = cmap)\n",
    "    plt.axis('off')\n",
    "    \n",
    "    plt.subplot(222)\n",
    "    plt.imshow(to_img(out_pix_p1_f), vmax = max_1, cmap = cmap)\n",
    "    plt.title('Output')\n",
    "    plt.axis('off')\n",
    "    plt.subplot(224)\n",
    "    plt.imshow(to_img(out_pix_p2_f), vmax = max_2, cmap = cmap)\n",
    "    plt.axis('off')\n",
    "    \n",
    "    plt.suptitle(rf'Corr for $\\Delta x$ max = {correlations_WS[ind][-1]:.2f}')\n",
    "    plt.savefig(f'WS_mode_{ind}.svg')"
   ]
  },
  {
   "cell_type": "code",
   "execution_count": 41,
   "metadata": {},
   "outputs": [
    {
     "ename": "NameError",
     "evalue": "name 'output_states_WS' is not defined",
     "output_type": "error",
     "traceback": [
      "\u001b[0;31m---------------------------------------------------------------------------\u001b[0m",
      "\u001b[0;31mNameError\u001b[0m                                 Traceback (most recent call last)",
      "\u001b[0;32m<ipython-input-41-df10e92c2910>\u001b[0m in \u001b[0;36m<module>\u001b[0;34m\u001b[0m\n\u001b[1;32m      1\u001b[0m \u001b[0moutput_state_WS\u001b[0m \u001b[0;34m=\u001b[0m \u001b[0mTMs\u001b[0m\u001b[0;34m[\u001b[0m\u001b[0;34m-\u001b[0m\u001b[0;36m1\u001b[0m\u001b[0;34m]\u001b[0m \u001b[0;34m@\u001b[0m \u001b[0mstate_WS\u001b[0m\u001b[0;34m\u001b[0m\u001b[0;34m\u001b[0m\u001b[0m\n\u001b[1;32m      2\u001b[0m \u001b[0moutput_state_WS\u001b[0m\u001b[0;34m.\u001b[0m\u001b[0mshape\u001b[0m\u001b[0;34m\u001b[0m\u001b[0;34m\u001b[0m\u001b[0m\n\u001b[0;32m----> 3\u001b[0;31m \u001b[0mmodes_out_full\u001b[0m\u001b[0;34m.\u001b[0m\u001b[0mtranspose\u001b[0m\u001b[0;34m(\u001b[0m\u001b[0;34m)\u001b[0m\u001b[0;34m@\u001b[0m\u001b[0moutput_states_WS\u001b[0m\u001b[0;34m\u001b[0m\u001b[0;34m\u001b[0m\u001b[0m\n\u001b[0m",
      "\u001b[0;31mNameError\u001b[0m: name 'output_states_WS' is not defined"
     ]
    }
   ],
   "source": [
    "output_state_WS = TMs[-1] @ state_WS\n",
    "output_state_WS.shape\n",
    "modes_out_full.transpose()@output_states_WS"
   ]
  },
  {
   "cell_type": "code",
   "execution_count": null,
   "metadata": {},
   "outputs": [],
   "source": []
  }
 ],
 "metadata": {
  "kernelspec": {
   "display_name": "Python 3",
   "language": "python",
   "name": "python3"
  },
  "language_info": {
   "codemirror_mode": {
    "name": "ipython",
    "version": 3
   },
   "file_extension": ".py",
   "mimetype": "text/x-python",
   "name": "python",
   "nbconvert_exporter": "python",
   "pygments_lexer": "ipython3",
   "version": "3.6.8"
  },
  "toc-showmarkdowntxt": false,
  "toc-showtags": false
 },
 "nbformat": 4,
 "nbformat_minor": 4
}
