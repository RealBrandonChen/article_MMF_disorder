{
 "cells": [
  {
   "cell_type": "code",
   "execution_count": 1,
   "metadata": {},
   "outputs": [],
   "source": [
    "import matplotlib\n",
    "import matplotlib.pyplot as plt\n",
    "import numpy as np\n",
    "import json\n",
    "from functions import complex_correlation, colorize, show_colormap_image\n",
    "import os\n",
    "\n",
    "# for Jupyter lab\n",
    "%matplotlib widget\n",
    "# for Jupyter notebook\n",
    "# %matplotlib notebook\n",
    "\n",
    "data_folder = '../Data/'\n",
    "\n",
    "SMALL_SIZE = 16\n",
    "MEDIUM_SIZE = 16\n",
    "BIGGER_SIZE = 18\n",
    "\n",
    "plt.rc('font', size=SMALL_SIZE)          # controls default text sizes\n",
    "plt.rc('axes', titlesize=SMALL_SIZE)     # fontsize of the axes title\n",
    "plt.rc('axes', labelsize=MEDIUM_SIZE)    # fontsize of the x and y labels\n",
    "plt.rc('xtick', labelsize=SMALL_SIZE)    # fontsize of the tick labels\n",
    "plt.rc('ytick', labelsize=SMALL_SIZE)    # fontsize of the tick labels\n",
    "plt.rc('legend', fontsize=SMALL_SIZE)    # legend fontsize\n",
    "plt.rc('figure', titlesize=BIGGER_SIZE)  # fontsize of the figure title"
   ]
  },
  {
   "cell_type": "markdown",
   "metadata": {},
   "source": [
    "# 1. First load the params and data"
   ]
  },
  {
   "cell_type": "markdown",
   "metadata": {},
   "source": [
    "## Load parameters"
   ]
  },
  {
   "cell_type": "code",
   "execution_count": 2,
   "metadata": {},
   "outputs": [
    {
     "name": "stdout",
     "output_type": "stream",
     "text": [
      "Succesfully loaded params of no pressure exp from json file\n"
     ]
    }
   ],
   "source": [
    "file_path = os.path.sep.join([data_folder, 'param.json'])\n",
    "with open(file_path,'r') as f:\n",
    "    param = json.load(f)\n",
    "    print('Succesfully loaded params of no pressure exp from json file')"
   ]
  },
  {
   "cell_type": "markdown",
   "metadata": {},
   "source": [
    "## Load theoretical modes"
   ]
  },
  {
   "cell_type": "code",
   "execution_count": 3,
   "metadata": {},
   "outputs": [],
   "source": [
    "path = os.path.sep.join([data_folder,'conversion_matrices.npz'])\n",
    "data_dict = np.load(path)\n",
    "modes_in = data_dict.f.modes_in\n",
    "# create mode matrix for two polarizations\n",
    "modes_in_full = np.kron(np.array([[1,0],[0,1]]),modes_in)\n",
    "# number of input pixels\n",
    "m = np.int(np.sqrt(modes_in.shape[1]))\n",
    "modes_out = data_dict.f.modes_out\n",
    "modes_out_full = np.kron(np.array([[1,0],[0,1]]),modes_out)\n",
    "# number of output pixels\n",
    "n = np.int(np.sqrt(modes_out.shape[1]))"
   ]
  },
  {
   "cell_type": "markdown",
   "metadata": {},
   "source": [
    "## Load the mode basis TMs after correction"
   ]
  },
  {
   "cell_type": "code",
   "execution_count": 4,
   "metadata": {},
   "outputs": [],
   "source": [
    "TM_modes = []\n",
    "for i, pos in enumerate(param['Translation']['steps_pressure']):\n",
    "    path = os.path.sep.join([data_folder,f'TM_modes_{str(pos)}.npz'])\n",
    "    data_dict = np.load(path)\n",
    "    TM_modes.append(data_dict.f.TM_corr_modes)\n",
    "TM_modes = np.array(TM_modes)\n",
    "Nmodes = TM_modes.shape[-1]//2"
   ]
  },
  {
   "cell_type": "code",
   "execution_count": 5,
   "metadata": {},
   "outputs": [],
   "source": [
    "index_perturbed = 52\n",
    "index_reference = 5\n",
    "TM_perturb_mode = TM_modes[index_perturbed]\n",
    "TM_ref_mode = TM_modes[index_reference]"
   ]
  },
  {
   "cell_type": "markdown",
   "metadata": {},
   "source": [
    "## Load the raw pixel basis TMs"
   ]
  },
  {
   "cell_type": "code",
   "execution_count": 12,
   "metadata": {},
   "outputs": [],
   "source": [
    "file_path = os.path.sep.join([data_folder, 'TM5_0.npy'])\n",
    "part1 = np.load(file_path)\n",
    "file_path = os.path.sep.join([data_folder, 'TM5_1.npy'])\n",
    "part2 = np.load(file_path)\n",
    "TM_ref_pix = np.concatenate([part1, part2], axis = 0)\n",
    "\n",
    "file_path = os.path.sep.join([data_folder, 'TM52_0.npy'])\n",
    "part1 = np.load(file_path)\n",
    "file_path = os.path.sep.join([data_folder, 'TM52_1.npy'])\n",
    "part2 = np.load(file_path)\n",
    "TM_perturb_pix = np.concatenate([part1, part2], axis = 0)\n",
    "del part1\n",
    "del part2"
   ]
  },
  {
   "cell_type": "markdown",
   "metadata": {},
   "source": [
    "## Calculate the mode basis TMs before correction"
   ]
  },
  {
   "cell_type": "code",
   "execution_count": 7,
   "metadata": {},
   "outputs": [],
   "source": [
    "TM_ref_mode_before = modes_out_full@TM_ref_pix@modes_in_full.transpose().conjugate()\n",
    "TM_perturb_mode_before = modes_out_full@TM_perturb_pix@modes_in_full.transpose().conjugate()"
   ]
  },
  {
   "cell_type": "markdown",
   "metadata": {},
   "source": [
    "# Display TMs"
   ]
  },
  {
   "cell_type": "markdown",
   "metadata": {},
   "source": [
    "## Mode basis TMs before correction"
   ]
  },
  {
   "cell_type": "code",
   "execution_count": 8,
   "metadata": {},
   "outputs": [],
   "source": [
    "to_img = lambda x: colorize(x, beta = 1.4, max_threshold = 0.8)\n",
    "\n",
    "mode = 'full'\n",
    "\n",
    "if mode == 'half':\n",
    "    n_end = Nmodes\n",
    "elif mode == 'full':\n",
    "    n_end = 2*Nmodes"
   ]
  },
  {
   "cell_type": "code",
   "execution_count": 9,
   "metadata": {},
   "outputs": [
    {
     "data": {
      "application/vnd.jupyter.widget-view+json": {
       "model_id": "36badc3b4cb7462e915456f6ab16f606",
       "version_major": 2,
       "version_minor": 0
      },
      "text/plain": [
       "Canvas(toolbar=Toolbar(toolitems=[('Home', 'Reset original view', 'home', 'home'), ('Back', 'Back to previous …"
      ]
     },
     "metadata": {},
     "output_type": "display_data"
    },
    {
     "data": {
      "application/vnd.jupyter.widget-view+json": {
       "model_id": "ea30067da1d741b2b658b88b91063f9d",
       "version_major": 2,
       "version_minor": 0
      },
      "text/plain": [
       "Canvas(toolbar=Toolbar(toolitems=[('Home', 'Reset original view', 'home', 'home'), ('Back', 'Back to previous …"
      ]
     },
     "metadata": {},
     "output_type": "display_data"
    }
   ],
   "source": [
    "fig ,ax = plt.subplots(1,2, figsize = (12,6))\n",
    "ax[0].imshow(to_img(TM_ref_mode_before[:n_end,:n_end]))\n",
    "ax[0].axis('off')\n",
    "ax[0].set_title('Rerefence matrix')\n",
    "ax[1].imshow(to_img(TM_perturb_mode_before[:n_end,:n_end]))\n",
    "ax[1].axis('off')\n",
    "ax[1].set_title('Maximum deformation')\n",
    "#\n",
    "plt.show()\n",
    "fig.savefig('TMs_mode_complex_deform_full_before.svg', dpi = 'figure')\n",
    "\n",
    "show_colormap_image(to_img, save_name = 'cm_TM_before.svg')\n",
    "\n"
   ]
  },
  {
   "cell_type": "markdown",
   "metadata": {},
   "source": [
    "## Mode basis TMs after correction"
   ]
  },
  {
   "cell_type": "code",
   "execution_count": 10,
   "metadata": {},
   "outputs": [
    {
     "data": {
      "application/vnd.jupyter.widget-view+json": {
       "model_id": "1a6ebd1b52794638befb76502d15a059",
       "version_major": 2,
       "version_minor": 0
      },
      "text/plain": [
       "Canvas(toolbar=Toolbar(toolitems=[('Home', 'Reset original view', 'home', 'home'), ('Back', 'Back to previous …"
      ]
     },
     "metadata": {},
     "output_type": "display_data"
    },
    {
     "data": {
      "application/vnd.jupyter.widget-view+json": {
       "model_id": "cbec67279cc8450fbcdf0976462e5a92",
       "version_major": 2,
       "version_minor": 0
      },
      "text/plain": [
       "Canvas(toolbar=Toolbar(toolitems=[('Home', 'Reset original view', 'home', 'home'), ('Back', 'Back to previous …"
      ]
     },
     "metadata": {},
     "output_type": "display_data"
    }
   ],
   "source": [
    "to_img = lambda x: colorize(x, beta = 1.4, max_threshold = 1.)\n",
    "\n",
    "\n",
    "fig ,ax = plt.subplots(1,2, figsize = (12,6))\n",
    "ax[0].imshow(to_img(TM_ref_mode[:n_end,:n_end]))\n",
    "ax[0].axis('off')\n",
    "ax[0].set_title('Rerefence matrix')\n",
    "ax[1].imshow(to_img(TM_perturb_mode[:n_end,:n_end]))\n",
    "ax[1].axis('off')\n",
    "ax[1].set_title('Maximum deformation')\n",
    "#\n",
    "plt.show()\n",
    "fig.savefig('TMs_complex_deform_full.svg', dpi = 'figure')\n",
    "\n",
    "show_colormap_image(to_img, save_name = 'cm_TM_after.svg')"
   ]
  },
  {
   "cell_type": "markdown",
   "metadata": {},
   "source": [
    "## Pixel basis TMs "
   ]
  },
  {
   "cell_type": "code",
   "execution_count": 11,
   "metadata": {},
   "outputs": [
    {
     "data": {
      "application/vnd.jupyter.widget-view+json": {
       "model_id": "751d36feb9b04f5fb87c12668e2cb83e",
       "version_major": 2,
       "version_minor": 0
      },
      "text/plain": [
       "Canvas(toolbar=Toolbar(toolitems=[('Home', 'Reset original view', 'home', 'home'), ('Back', 'Back to previous …"
      ]
     },
     "metadata": {},
     "output_type": "display_data"
    },
    {
     "data": {
      "application/vnd.jupyter.widget-view+json": {
       "model_id": "020ac176a17e4bca84f829992cbf8c35",
       "version_major": 2,
       "version_minor": 0
      },
      "text/plain": [
       "Canvas(toolbar=Toolbar(toolitems=[('Home', 'Reset original view', 'home', 'home'), ('Back', 'Back to previous …"
      ]
     },
     "metadata": {},
     "output_type": "display_data"
    }
   ],
   "source": [
    "to_img = lambda x: colorize(x, beta = 1., max_threshold = 0.8)\n",
    "\n",
    "\n",
    "fig ,ax = plt.subplots(1,2, figsize = (12,6))\n",
    "ax[0].imshow(to_img(TM_ref_pix), aspect = 'auto')\n",
    "ax[0].axis('off')\n",
    "ax[0].set_title('Rerefence matrix')\n",
    "ax[1].imshow(to_img(TM_perturb_pix), aspect = 'auto')\n",
    "ax[1].axis('off')\n",
    "ax[1].set_title('Maximum deformation')\n",
    "#\n",
    "plt.show()\n",
    "fig.savefig('TMs_pix_complex_deform_full.svg', dpi = 400)\n",
    "\n",
    "show_colormap_image(to_img, save_name = 'cm_TM_pix.svg')"
   ]
  },
  {
   "cell_type": "markdown",
   "metadata": {},
   "source": [
    "# Mode profiles"
   ]
  },
  {
   "cell_type": "code",
   "execution_count": 14,
   "metadata": {},
   "outputs": [],
   "source": [
    "modes_to_show = [6, 8, 27, 37]\n",
    "# to_img = lambda x: colorize(x, beta = 1.5, max_threshold = 1.)\n",
    "to_img = lambda x: np.abs(x)**2\n",
    "to_2D = lambda x,n: x.reshape([n]*2)\n",
    "cmap = 'gray'"
   ]
  },
  {
   "cell_type": "markdown",
   "metadata": {},
   "source": [
    "## Input modes"
   ]
  },
  {
   "cell_type": "code",
   "execution_count": 15,
   "metadata": {},
   "outputs": [],
   "source": [
    "path = os.path.sep.join([data_folder,'modes_in_after_correction.npy'])\n",
    "modes_in_after = np.load(path)"
   ]
  },
  {
   "cell_type": "code",
   "execution_count": 30,
   "metadata": {},
   "outputs": [
    {
     "data": {
      "application/vnd.jupyter.widget-view+json": {
       "model_id": "5dc91caee24c46f3885c0f2bd95594e7",
       "version_major": 2,
       "version_minor": 0
      },
      "text/plain": [
       "Canvas(toolbar=Toolbar(toolitems=[('Home', 'Reset original view', 'home', 'home'), ('Back', 'Back to previous …"
      ]
     },
     "metadata": {},
     "output_type": "display_data"
    },
    {
     "data": {
      "application/vnd.jupyter.widget-view+json": {
       "model_id": "47293d79c21b4c5fb5c8532893a035b2",
       "version_major": 2,
       "version_minor": 0
      },
      "text/plain": [
       "Canvas(toolbar=Toolbar(toolitems=[('Home', 'Reset original view', 'home', 'home'), ('Back', 'Back to previous …"
      ]
     },
     "metadata": {},
     "output_type": "display_data"
    },
    {
     "data": {
      "application/vnd.jupyter.widget-view+json": {
       "model_id": "bf9db4c217c74c50854ff362685aa394",
       "version_major": 2,
       "version_minor": 0
      },
      "text/plain": [
       "Canvas(toolbar=Toolbar(toolitems=[('Home', 'Reset original view', 'home', 'home'), ('Back', 'Back to previous …"
      ]
     },
     "metadata": {},
     "output_type": "display_data"
    },
    {
     "data": {
      "application/vnd.jupyter.widget-view+json": {
       "model_id": "d9553b60618d4c23961a61fdbd7d3195",
       "version_major": 2,
       "version_minor": 0
      },
      "text/plain": [
       "Canvas(toolbar=Toolbar(toolitems=[('Home', 'Reset original view', 'home', 'home'), ('Back', 'Back to previous …"
      ]
     },
     "metadata": {},
     "output_type": "display_data"
    }
   ],
   "source": [
    "for ind in modes_to_show:\n",
    "    Mode_before = np.fliplr(to_2D(modes_in[ind],m))\n",
    "    Mode_after = to_2D(modes_in_after[ind],m)\n",
    "    # set the phase to be equal close to the center for axisymmetric modes or shifted for other ones\n",
    "    if np.abs(Mode_before[m//2,m//2]) > .9*np.max(np.abs(Mode_before)):\n",
    "        shift = 0\n",
    "    else:\n",
    "        shift = 3\n",
    "    Mode_after *= np.exp(1j*(np.angle(Mode_before[m//2+shift,m//2])-np.angle(Mode_after[m//2+shift,m//2]))) \n",
    "\n",
    "    fig ,ax = plt.subplots(1,2, figsize = (12,6))\n",
    "    ax[0].imshow(to_img(Mode_before),cmap = cmap)\n",
    "    ax[0].axis('off')\n",
    "    ax[0].set_title('Before correction')\n",
    "    ax[1].imshow(to_img(Mode_after), cmap = cmap)\n",
    "    ax[1].axis('off')\n",
    "    ax[1].set_title('After correction')\n",
    "    fig.suptitle(f'Input mode {ind}')\n",
    "    fig.savefig(f'mode_in_{ind}.svg', dpi = 400)"
   ]
  },
  {
   "cell_type": "markdown",
   "metadata": {},
   "source": [
    "## Ouput modes"
   ]
  },
  {
   "cell_type": "code",
   "execution_count": 17,
   "metadata": {},
   "outputs": [],
   "source": [
    "path = os.path.sep.join([data_folder,'modes_out_after_correction.npy'])\n",
    "modes_out_after = np.load(path)\n",
    "plt.close('all')"
   ]
  },
  {
   "cell_type": "code",
   "execution_count": 29,
   "metadata": {},
   "outputs": [
    {
     "data": {
      "application/vnd.jupyter.widget-view+json": {
       "model_id": "834a31db7dda447193d9bdf23485bb6f",
       "version_major": 2,
       "version_minor": 0
      },
      "text/plain": [
       "Canvas(toolbar=Toolbar(toolitems=[('Home', 'Reset original view', 'home', 'home'), ('Back', 'Back to previous …"
      ]
     },
     "metadata": {},
     "output_type": "display_data"
    },
    {
     "data": {
      "application/vnd.jupyter.widget-view+json": {
       "model_id": "d44114591ec4432e928a287662be3502",
       "version_major": 2,
       "version_minor": 0
      },
      "text/plain": [
       "Canvas(toolbar=Toolbar(toolitems=[('Home', 'Reset original view', 'home', 'home'), ('Back', 'Back to previous …"
      ]
     },
     "metadata": {},
     "output_type": "display_data"
    },
    {
     "data": {
      "application/vnd.jupyter.widget-view+json": {
       "model_id": "08cd80c649f14bc79b1301e314ae72f1",
       "version_major": 2,
       "version_minor": 0
      },
      "text/plain": [
       "Canvas(toolbar=Toolbar(toolitems=[('Home', 'Reset original view', 'home', 'home'), ('Back', 'Back to previous …"
      ]
     },
     "metadata": {},
     "output_type": "display_data"
    },
    {
     "data": {
      "application/vnd.jupyter.widget-view+json": {
       "model_id": "7ee65610f57c4e65970036f736c5f757",
       "version_major": 2,
       "version_minor": 0
      },
      "text/plain": [
       "Canvas(toolbar=Toolbar(toolitems=[('Home', 'Reset original view', 'home', 'home'), ('Back', 'Back to previous …"
      ]
     },
     "metadata": {},
     "output_type": "display_data"
    }
   ],
   "source": [
    "for ind in modes_to_show:\n",
    "    Mode_before = to_2D(modes_out[ind],n)\n",
    "    Mode_after = to_2D(modes_out_after[ind],n)\n",
    "    # set the phase to be equal close to the center of the image\n",
    "    Mode_after *= np.exp(1j*(np.angle(Mode_before[n//2+3,n//2])-np.angle(Mode_after[n//2+3,n//2]))) \n",
    "\n",
    "    fig ,ax = plt.subplots(1,2, figsize = (12,6))\n",
    "    ax[0].imshow(to_img(Mode_before), cmap = cmap)\n",
    "    ax[0].axis('off')\n",
    "    ax[0].set_title('Before correction')\n",
    "    ax[1].imshow(to_img(Mode_after), cmap = cmap)\n",
    "    ax[1].axis('off')\n",
    "    ax[1].set_title('After correction')\n",
    "    fig.suptitle(f'Ouput mode {ind}')\n",
    "    \n",
    "    fig.savefig(f'mode_out_{ind}.svg', dpi = 400)"
   ]
  },
  {
   "cell_type": "markdown",
   "metadata": {},
   "source": [
    "# Singular value decomposition of the TM"
   ]
  },
  {
   "cell_type": "markdown",
   "metadata": {},
   "source": [
    "## No deformation"
   ]
  },
  {
   "cell_type": "markdown",
   "metadata": {},
   "source": [
    "### SVD of the TM in the pixel basis"
   ]
  },
  {
   "cell_type": "code",
   "execution_count": 19,
   "metadata": {},
   "outputs": [],
   "source": [
    "s_pix = np.linalg.svd(TM_ref_pix, compute_uv = False)\n",
    "s_pix = s_pix/s_pix[0]"
   ]
  },
  {
   "cell_type": "markdown",
   "metadata": {},
   "source": [
    "### SVD of the model basis TM before compensation of aberrations"
   ]
  },
  {
   "cell_type": "code",
   "execution_count": 20,
   "metadata": {},
   "outputs": [],
   "source": [
    "s_mode_nocorr = np.linalg.svd(TM_ref_mode_before, compute_uv = False)\n",
    "s_mode_nocorr = s_mode_nocorr/s_mode_nocorr[0]"
   ]
  },
  {
   "cell_type": "markdown",
   "metadata": {},
   "source": [
    "### SVD of the model basis TM after compensation of aberrations"
   ]
  },
  {
   "cell_type": "code",
   "execution_count": 21,
   "metadata": {},
   "outputs": [],
   "source": [
    "s_mode_corr = np.linalg.svd(TM_ref_mode, compute_uv = False)\n",
    "s_mode_corr = s_mode_corr/s_mode_corr[0]"
   ]
  },
  {
   "cell_type": "code",
   "execution_count": 22,
   "metadata": {},
   "outputs": [
    {
     "data": {
      "application/vnd.jupyter.widget-view+json": {
       "model_id": "305d1bfe5fc243529f53d1e378440bc8",
       "version_major": 2,
       "version_minor": 0
      },
      "text/plain": [
       "Canvas(toolbar=Toolbar(toolitems=[('Home', 'Reset original view', 'home', 'home'), ('Back', 'Back to previous …"
      ]
     },
     "metadata": {},
     "output_type": "display_data"
    }
   ],
   "source": [
    "plt.figure()\n",
    "plt.semilogy(s_pix[:200], 'r--')\n",
    "plt.semilogy(s_mode_corr[:150], 'b-')\n",
    "plt.semilogy(s_mode_nocorr[:150], 'c')\n",
    "\n",
    "plt.vlines(2*Nmodes,4e-3,1., 'k', linestyles = 'dashed')\n",
    "\n",
    "# save figure\n",
    "plt.savefig('SVDs_TM_dx0.svg')"
   ]
  },
  {
   "cell_type": "markdown",
   "metadata": {},
   "source": [
    "## Maximal deformation"
   ]
  },
  {
   "cell_type": "markdown",
   "metadata": {},
   "source": [
    "### SVD of the TM in the pixel basis"
   ]
  },
  {
   "cell_type": "code",
   "execution_count": 23,
   "metadata": {},
   "outputs": [],
   "source": [
    "s_pix = np.linalg.svd(TM_perturb_pix, compute_uv = False)\n",
    "s_pix = s_pix/s_pix[0]"
   ]
  },
  {
   "cell_type": "markdown",
   "metadata": {},
   "source": [
    "### SVD of the model basis TM before compensation of aberrations"
   ]
  },
  {
   "cell_type": "code",
   "execution_count": 24,
   "metadata": {},
   "outputs": [],
   "source": [
    "s_mode_nocorr = np.linalg.svd(TM_perturb_mode_before, compute_uv = False)\n",
    "s_mode_nocorr = s_mode_nocorr/s_mode_nocorr[0]"
   ]
  },
  {
   "cell_type": "markdown",
   "metadata": {},
   "source": [
    "### SVD of the model basis TM after compensation of aberrations"
   ]
  },
  {
   "cell_type": "code",
   "execution_count": 25,
   "metadata": {},
   "outputs": [],
   "source": [
    "s_mode_corr = np.linalg.svd(TM_perturb_mode, compute_uv = False)\n",
    "s_mode_corr = s_mode_corr/s_mode_corr[0]"
   ]
  },
  {
   "cell_type": "code",
   "execution_count": 26,
   "metadata": {},
   "outputs": [
    {
     "data": {
      "application/vnd.jupyter.widget-view+json": {
       "model_id": "d31e08202d1e469f83c0091f74de4f8b",
       "version_major": 2,
       "version_minor": 0
      },
      "text/plain": [
       "Canvas(toolbar=Toolbar(toolitems=[('Home', 'Reset original view', 'home', 'home'), ('Back', 'Back to previous …"
      ]
     },
     "metadata": {},
     "output_type": "display_data"
    }
   ],
   "source": [
    "plt.figure()\n",
    "plt.semilogy(s_pix[:200], 'r--')\n",
    "plt.semilogy(s_mode_corr[:150], 'b-')\n",
    "plt.semilogy(s_mode_nocorr[:150], 'c')\n",
    "\n",
    "plt.vlines(2*Nmodes,4e-3,1., 'k', linestyles = 'dashed')\n",
    "\n",
    "# save figure\n",
    "plt.savefig('SVDs_TM_dx70.svg')"
   ]
  },
  {
   "cell_type": "code",
   "execution_count": 27,
   "metadata": {},
   "outputs": [],
   "source": [
    "index = -1\n",
    "index_dx0 = 17\n",
    "index_reference = 5\n",
    "TM_perturb = TM_modes[index]\n",
    "TM_ref = TM_modes[index_reference]\n",
    "dx = (np.array(param['Translation']['steps_pressure'])-param['Translation']['steps_pressure'][index_dx0])*1e3"
   ]
  },
  {
   "cell_type": "code",
   "execution_count": 28,
   "metadata": {},
   "outputs": [
    {
     "data": {
      "application/vnd.jupyter.widget-view+json": {
       "model_id": "c9ae84da019c4f4b9a94b4b2d86081b5",
       "version_major": 2,
       "version_minor": 0
      },
      "text/plain": [
       "Canvas(toolbar=Toolbar(toolitems=[('Home', 'Reset original view', 'home', 'home'), ('Back', 'Back to previous …"
      ]
     },
     "metadata": {},
     "output_type": "display_data"
    },
    {
     "data": {
      "text/plain": [
       "[<matplotlib.lines.Line2D at 0x7fd9e8787f60>]"
      ]
     },
     "execution_count": 28,
     "metadata": {},
     "output_type": "execute_result"
    }
   ],
   "source": [
    "u,s,v = np.linalg.svd(TM_ref)\n",
    "s = s/s[0]\n",
    "\n",
    "plt.figure()\n",
    "plt.semilogy(s)"
   ]
  }
 ],
 "metadata": {
  "kernelspec": {
   "display_name": "Python 3",
   "language": "python",
   "name": "python3"
  },
  "language_info": {
   "codemirror_mode": {
    "name": "ipython",
    "version": 3
   },
   "file_extension": ".py",
   "mimetype": "text/x-python",
   "name": "python",
   "nbconvert_exporter": "python",
   "pygments_lexer": "ipython3",
   "version": "3.6.8"
  },
  "toc-showmarkdowntxt": false,
  "toc-showtags": false
 },
 "nbformat": 4,
 "nbformat_minor": 4
}
