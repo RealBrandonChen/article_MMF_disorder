{
 "cells": [
  {
   "cell_type": "code",
   "execution_count": 1,
   "metadata": {},
   "outputs": [],
   "source": [
    "import matplotlib\n",
    "import matplotlib.pyplot as plt\n",
    "import numpy as np\n",
    "import json\n",
    "import os\n",
    "from functions import colorize, complex_correlation, fidelity\n",
    "\n",
    "# for Jupyter lab\n",
    "%matplotlib widget\n",
    "# for Jupyter notebook\n",
    "# %matplotlib notebook\n",
    "\n",
    "data_folder = '../Data'\n",
    "\n",
    "SMALL_SIZE = 16\n",
    "MEDIUM_SIZE = 18\n",
    "BIGGER_SIZE = 20\n",
    "\n",
    "plt.rc('font', size=SMALL_SIZE)          # controls default text sizes\n",
    "plt.rc('axes', titlesize=SMALL_SIZE)     # fontsize of the axes title\n",
    "plt.rc('axes', labelsize=MEDIUM_SIZE)    # fontsize of the x and y labels\n",
    "plt.rc('xtick', labelsize=MEDIUM_SIZE)    # fontsize of the tick labels\n",
    "plt.rc('ytick', labelsize=MEDIUM_SIZE)    # fontsize of the tick labels\n",
    "plt.rc('legend', fontsize=SMALL_SIZE)    # legend fontsize\n",
    "plt.rc('figure', titlesize=MEDIUM_SIZE)  # fontsize of the figure title"
   ]
  },
  {
   "cell_type": "code",
   "execution_count": 2,
   "metadata": {},
   "outputs": [],
   "source": [
    "## use fidelity or correlation to compare matrices\n",
    "\n",
    "function = fidelity\n",
    "# function = complex_correlation"
   ]
  },
  {
   "cell_type": "markdown",
   "metadata": {},
   "source": [
    "# 1. First load the params and data"
   ]
  },
  {
   "cell_type": "markdown",
   "metadata": {},
   "source": [
    "## Load parameters"
   ]
  },
  {
   "cell_type": "code",
   "execution_count": 3,
   "metadata": {},
   "outputs": [
    {
     "name": "stdout",
     "output_type": "stream",
     "text": [
      "Succesfully loaded parameters from .json file\n"
     ]
    }
   ],
   "source": [
    "path = os.path.sep.join([data_folder,'param.json'])\n",
    "with open(path,'r') as f:\n",
    "    param = json.load(f)\n",
    "    print('Succesfully loaded parameters from .json file')"
   ]
  },
  {
   "cell_type": "markdown",
   "metadata": {},
   "source": [
    "## Load theoretical modes"
   ]
  },
  {
   "cell_type": "code",
   "execution_count": 4,
   "metadata": {},
   "outputs": [],
   "source": [
    "path = os.path.sep.join([data_folder,'conversion_matrices.npz'])\n",
    "\n",
    "data_dict = np.load(path)\n",
    "# list of the radial momenta of the modes\n",
    "L = data_dict['L_modes']\n",
    "# list of the angular orbital momebta of the modes\n",
    "M = data_dict['M_modes']\n",
    "modes_in = data_dict.f.modes_in\n",
    "# create mode matrix for two polarizations\n",
    "modes_in_full = np.kron(np.array([[1,0],[0,1]]),modes_in)\n",
    "# number of input pixels\n",
    "m = np.int(np.sqrt(modes_in.shape[1]))\n",
    "modes_out = data_dict.f.modes_out\n",
    "modes_out_full = np.kron(np.array([[1,0],[0,1]]),modes_out)\n",
    "# number of output pixels\n",
    "n = np.int(np.sqrt(modes_out.shape[1]))"
   ]
  },
  {
   "cell_type": "markdown",
   "metadata": {},
   "source": [
    "## Load the TMs"
   ]
  },
  {
   "cell_type": "code",
   "execution_count": 5,
   "metadata": {},
   "outputs": [],
   "source": [
    "TM_modes = []\n",
    "for i, pos in enumerate(param['Translation']['steps_pressure']):\n",
    "    path = os.path.sep.join([data_folder,f'TM_modes_{str(pos)}.npz'])\n",
    "    data_dict = np.load(path)\n",
    "    TM_modes.append(data_dict.f.TM_corr_modes)\n",
    "TM_modes = np.array(TM_modes)\n",
    "Nmodes = TM_modes.shape[-1]//2"
   ]
  },
  {
   "cell_type": "markdown",
   "metadata": {},
   "source": [
    "# 2. Decorrelation of the TM"
   ]
  },
  {
   "cell_type": "code",
   "execution_count": 6,
   "metadata": {},
   "outputs": [
    {
     "data": {
      "application/vnd.jupyter.widget-view+json": {
       "model_id": "5efc49565ba944f1afb48b6a8225bcf7",
       "version_major": 2,
       "version_minor": 0
      },
      "text/plain": [
       "Canvas(toolbar=Toolbar(toolitems=[('Home', 'Reset original view', 'home', 'home'), ('Back', 'Back to previous …"
      ]
     },
     "metadata": {},
     "output_type": "display_data"
    },
    {
     "data": {
      "text/plain": [
       "Text(0, 0.5, 'Complex correlation')"
      ]
     },
     "execution_count": 6,
     "metadata": {},
     "output_type": "execute_result"
    }
   ],
   "source": [
    "%matplotlib widget\n",
    "\n",
    "index = -1\n",
    "index_dx0 = 17\n",
    "index_reference = 5\n",
    "TM_perturb = TM_modes[index]\n",
    "TM_ref = TM_modes[index_reference]\n",
    "TM_correlation = []\n",
    "\n",
    "dx = (np.array(param['Translation']['steps_pressure'])-param['Translation']['steps_pressure'][index_dx0])*1e3\n",
    "for i,TM in enumerate(TM_modes):\n",
    "    TM_correlation.append(function(TM_modes[index_reference],TM))\n",
    "plt.figure(),\n",
    "plt.plot(dx[index_reference:],TM_correlation[index_reference:],'r')\n",
    "plt.plot([dx[index]],[TM_correlation[index]],'b+', markersize=16)\n",
    "plt.plot([dx[index_reference]],[TM_correlation[index_reference]],'g+', markersize=16)\n",
    "plt.legend(['corr','index_perturb','index_reference'])\n",
    "plt.xlabel(r'Postion ($\\mu m$)')\n",
    "plt.ylabel('Complex correlation')\n",
    "\n",
    "# save figure\n",
    "# plt.savefig('corrTM.svg', dpi=400)"
   ]
  },
  {
   "cell_type": "code",
   "execution_count": 9,
   "metadata": {},
   "outputs": [
    {
     "data": {
      "application/vnd.jupyter.widget-view+json": {
       "model_id": "bee68aae14234890856bef9e570b5e9d",
       "version_major": 2,
       "version_minor": 0
      },
      "text/plain": [
       "Canvas(toolbar=Toolbar(toolitems=[('Home', 'Reset original view', 'home', 'home'), ('Back', 'Back to previous …"
      ]
     },
     "metadata": {},
     "output_type": "display_data"
    }
   ],
   "source": [
    "to_img = lambda x: colorize(x, beta = 1.8, max_threshold = 0.8)\n",
    "\n",
    "\n",
    "mode = 'half'\n",
    "\n",
    "if mode == 'half':\n",
    "    n_end = Nmodes\n",
    "elif mode == 'full':\n",
    "    n_end = 2*Nmodes\n",
    "\n",
    "fig ,ax = plt.subplots(1,2, figsize = (12,6))\n",
    "ax[0].imshow(to_img(TM_ref[:n_end,:n_end]))\n",
    "ax[0].axis('off')\n",
    "ax[0].set_title('Rerefence matrix')\n",
    "ax[1].imshow(to_img(TM_perturb[:n_end,:n_end]))\n",
    "ax[1].axis('off')\n",
    "ax[1].set_title('Maximum deformation')\n",
    "#\n",
    "plt.show()\n",
    "fig.savefig('TMs_complex_deform_half.svg', dpi = 'figure')"
   ]
  },
  {
   "cell_type": "code",
   "execution_count": 10,
   "metadata": {},
   "outputs": [
    {
     "data": {
      "application/vnd.jupyter.widget-view+json": {
       "model_id": "da4dbe748c4a46689d211356cfe12823",
       "version_major": 2,
       "version_minor": 0
      },
      "text/plain": [
       "Canvas(toolbar=Toolbar(toolitems=[('Home', 'Reset original view', 'home', 'home'), ('Back', 'Back to previous …"
      ]
     },
     "metadata": {},
     "output_type": "display_data"
    }
   ],
   "source": [
    "n_phi = 30\n",
    "n_amp = 100\n",
    "X,Y = np.meshgrid(np.linspace(-np.pi,np.pi,n_phi),np.linspace(1.,0.,n_amp))\n",
    "\n",
    "cm = Y*np.exp(1j*X)\n",
    "\n",
    "fig, ax = plt.subplots(1,1)\n",
    "img = ax.imshow(to_img(cm.transpose()), extent = [-np.pi, np.pi, 0., 1.], aspect = 30)\n",
    "\n",
    "ax.set_xticks([-np.pi,0,np.pi])\n",
    "ax.set_xticklabels([r'$\\pi$', '0', r'$\\pi$'])\n",
    "ax.set_yticks([0,0.5,1])\n",
    "# plt.savefig('cm_for_complex_TMs.svg', dpi = 200)"
   ]
  },
  {
   "cell_type": "markdown",
   "metadata": {},
   "source": [
    "# 3. Channels robust to deformation\n",
    "Deformation principal modes obtained from the eigenmodes of the Generalized Wigner-Smith operator \n",
    "(Fig.3 of the main text)"
   ]
  },
  {
   "cell_type": "markdown",
   "metadata": {},
   "source": [
    "## Estimate the Wigner-Smith operator"
   ]
  },
  {
   "cell_type": "code",
   "execution_count": 56,
   "metadata": {},
   "outputs": [],
   "source": [
    "def get_WS(H0,H1,H2):\n",
    "    '''\n",
    "    Get the Wigner-Smith operator from 3 matrices at Dx-dx, Dx and Dx+dx\n",
    "    '''\n",
    "    dH = (H2 - H0)*0.5\n",
    "    WS = -1j*np.linalg.pinv(H1)@dH\n",
    "    return WS\n",
    "\n",
    "def get_WS_symm(H0,H1,H2):\n",
    "    '''\n",
    "    Get the Hermitian part of the Wigner-Smith operator from 3 matrices at Dx-dx, Dx and Dx+dx\n",
    "    '''\n",
    "    WS = get_WS(H0,H1,H2)\n",
    "    WS_symm = WS + WS.T.conj()\n",
    "    return WS_symm\n",
    "\n",
    "\n",
    "# central deformation to estimate the WS operator\n",
    "center_TM_index = 24\n",
    "# step to evaluate the derivative\n",
    "step = 4\n",
    "\n",
    "WS_symm = get_WS_symm(TM_modes[center_TM_index - step], \n",
    "                      TM_modes[center_TM_index], \n",
    "                      TM_modes[center_TM_index + step])"
   ]
  },
  {
   "cell_type": "markdown",
   "metadata": {},
   "source": [
    "## Eigenvalue decomposition of the Wigner-Smith operator"
   ]
  },
  {
   "cell_type": "code",
   "execution_count": 57,
   "metadata": {},
   "outputs": [],
   "source": [
    "s,U = np.linalg.eig(WS_symm)\n",
    "# sort the eigenvalues\n",
    "s = s[np.argsort(s)]\n",
    "U = U[np.argsort(s),:]"
   ]
  },
  {
   "cell_type": "markdown",
   "metadata": {},
   "source": [
    "## Analyze the (de)correlation of the deformation principal modes\n",
    "compared to the fundamental mode and to random input wavefronts"
   ]
  },
  {
   "cell_type": "code",
   "execution_count": 58,
   "metadata": {},
   "outputs": [],
   "source": [
    "def get_out_states(in_modes, i0, i1):\n",
    "    '''\n",
    "    Get the output states corresponding to the input state 'in_modes'\n",
    "    for the deformations indexed by 'i0' and 'i1'.\n",
    "    Return the output fields for the two polarizations for each deformation. \n",
    "    '''\n",
    "    output_state = TM_modes[i0] @ in_modes\n",
    "    out_pix = modes_out_full.transpose()@output_state\n",
    "    out_pix_p1_0 = out_pix[:n**2].reshape([n]*2)\n",
    "    out_pix_p2_0 = out_pix[n**2:].reshape([n]*2)\n",
    "\n",
    "    output_state = TM_modes[i1] @ in_modes\n",
    "    out_pix = modes_out_full.transpose()@output_state\n",
    "    out_pix_p1_f = out_pix[:n**2].reshape([n]*2)\n",
    "    out_pix_p2_f = out_pix[n**2:].reshape([n]*2)\n",
    "    \n",
    "    return out_pix_p1_0, out_pix_p2_0, out_pix_p1_f, out_pix_p2_f\n",
    "\n",
    "def get_correlation_out(in_modes, indexes, index_reference):\n",
    "    '''\n",
    "    Take as argument an input wavefront 'in_modes' (in the mode basis), \n",
    "    a list of indexes 'indexes' and the reference index 'index_reference'.\n",
    "    Returns a list of values representing the \n",
    "    correlation of the output intensity  \n",
    "    for each deformation indexed by 'indexes' \n",
    "    with the output intensity for the reference deformation \n",
    "    indexed by 'index_reference'\n",
    "    '''\n",
    "    corr_vector = []\n",
    "    f = lambda x: np.abs(x)**2\n",
    "    for ind in indexes:\n",
    "        out_pix_p1_0, out_pix_p2_0, out_pix_p1_f, out_pix_p2_f = get_out_states(in_modes, i0 = index_reference, i1 = ind)\n",
    "        out_0 = np.concatenate([out_pix_p1_0,out_pix_p2_0])\n",
    "        out_f = np.concatenate([out_pix_p1_f,out_pix_p2_f])\n",
    "        corr_vector.append(complex_correlation(f(out_0),f(out_f)))\n",
    "    return corr_vector\n",
    "        "
   ]
  },
  {
   "cell_type": "code",
   "execution_count": 59,
   "metadata": {},
   "outputs": [],
   "source": [
    "Nmodes = TM_modes[0].shape[0]\n",
    "# compare to the deformation around witch the WS operator is estimated.\n",
    "index_reference = center_TM_index\n",
    "# number of average random wavefront to average on\n",
    "n_ave = 20\n",
    "\n",
    "\n",
    "## DEFORMATION PRINCIPAL MODES\n",
    "indexes = list(range(len(TM_modes)))\n",
    "correlations_WS = []\n",
    "for ind in range(Nmodes):\n",
    "    state_WS = U[:,ind] # use WS eigen vector\n",
    "    correlations_WS.append(get_correlation_out(state_WS, \n",
    "                                               indexes = indexes, \n",
    "                                               index_reference = index_reference))\n",
    "## FUNDAMENTAL MODE\n",
    "correlations_mode = []\n",
    "state = np.zeros(Nmodes, dtype = np.complex) # use the modes \n",
    "# send the fundamental mode in one polarization\n",
    "state[55] = 1\n",
    "correlations_mode = get_correlation_out(state, indexes = indexes, index_reference = index_reference)\n",
    "\n",
    "## RANDOM WAVEFRONTS\n",
    "correlations_rand_avg = np.zeros(len(TM_modes))\n",
    "for j in range(n_ave):\n",
    "    # generate a random combination of mode as input\n",
    "    rand_vec = (np.random.rand(Nmodes)-0.5) + 1j * (np.random.rand(Nmodes)-0.5)\n",
    "    output_states_rand = [TM_modes[i] @ rand_vec for i in range(len(TM_modes))]\n",
    "    correlations_rand = np.array([complex_correlation(output_states_rand[i],output_states_rand[index_reference]) for i in range(len(TM_modes))])\n",
    "    correlations_rand_avg += correlations_rand\n",
    "correlations_rand_avg /= n_ave"
   ]
  },
  {
   "cell_type": "markdown",
   "metadata": {},
   "source": [
    "## Plot output intensity correlation data "
   ]
  },
  {
   "cell_type": "code",
   "execution_count": 60,
   "metadata": {},
   "outputs": [],
   "source": [
    "from matplotlib import colors\n",
    "\n",
    "def get_color_map(n):\n",
    "    cdict = {'red':   ((0.0,  0.3, 0.3),\n",
    "                       (1.0,  1.0, 1.0)),\n",
    "\n",
    "             'green': ((0.0,  0.1, 0.1),\n",
    "                       (1.,  0., 0.)),\n",
    "\n",
    "             'blue':  ((0.0,  0.0, 0.0),\n",
    "                       (1.0,  0.0, 0.0))}\n",
    "    cmap = colors.LinearSegmentedColormap('custom', cdict, N=n)\n",
    "    return cmap"
   ]
  },
  {
   "cell_type": "code",
   "execution_count": 64,
   "metadata": {},
   "outputs": [
    {
     "data": {
      "application/vnd.jupyter.widget-view+json": {
       "model_id": "a3d4dc490d5a42fd9c851983772c7cb8",
       "version_major": 2,
       "version_minor": 0
      },
      "text/plain": [
       "Canvas(toolbar=Toolbar(toolitems=[('Home', 'Reset original view', 'home', 'home'), ('Back', 'Back to previous …"
      ]
     },
     "metadata": {},
     "output_type": "display_data"
    },
    {
     "data": {
      "text/plain": [
       "Text(0, 0.5, 'Correlation')"
      ]
     },
     "execution_count": 64,
     "metadata": {},
     "output_type": "execute_result"
    }
   ],
   "source": [
    "i0 = 15\n",
    "index_dx0 = 17\n",
    "plt.close('all')\n",
    "plt.figure()\n",
    "dx = (np.array(param['Translation']['steps_pressure'])-param['Translation']['steps_pressure'][index_dx0])*1e3\n",
    "cmap = get_color_map(n = Nmodes)\n",
    "\n",
    "for i,corr_WS in enumerate(correlations_WS):\n",
    "    plt.plot(dx[i0:],corr_WS[i0:],color = cmap(i))\n",
    "    \n",
    "\n",
    "plt.plot(dx[i0:],correlations_mode[i0:], color = 'darkgreen', marker='+')\n",
    "\n",
    "plt.plot(dx[i0:],correlations_rand_avg[i0:],'b+-')\n",
    "all_min = plt.gca().get_ylim()[0]\n",
    "plt.vlines(dx[center_TM_index],all_min,1., 'r', linestyles = 'dashed')\n",
    "\n",
    "plt.legend(['Fondamental mode', 'Random wavefronts', 'Deformation principal modes'])\n",
    "plt.xlabel('Deformation in microns')\n",
    "plt.ylabel('Correlation')\n",
    "\n",
    "# save figure\n",
    "# plt.savefig('WS_corr.svg')"
   ]
  },
  {
   "cell_type": "markdown",
   "metadata": {},
   "source": [
    "## Display output intensity patterns"
   ]
  },
  {
   "cell_type": "markdown",
   "metadata": {},
   "source": [
    "### Fundamental mode"
   ]
  },
  {
   "cell_type": "code",
   "execution_count": 65,
   "metadata": {},
   "outputs": [
    {
     "data": {
      "application/vnd.jupyter.widget-view+json": {
       "model_id": "3c9125abb2b24674b1cf6498d5c29868",
       "version_major": 2,
       "version_minor": 0
      },
      "text/plain": [
       "Canvas(toolbar=Toolbar(toolitems=[('Home', 'Reset original view', 'home', 'home'), ('Back', 'Back to previous …"
      ]
     },
     "metadata": {},
     "output_type": "display_data"
    },
    {
     "data": {
      "text/plain": [
       "Text(0.5, 0.98, 'Pearson correlation coefficient = 0.58%')"
      ]
     },
     "execution_count": 65,
     "metadata": {},
     "output_type": "execute_result"
    }
   ],
   "source": [
    "in_state = np.zeros(Nmodes) # use the modes \n",
    "in_state[0] = 1\n",
    "\n",
    "# to_img = colorize\n",
    "to_img = lambda x: np.abs(x)**2\n",
    "cmap = 'gray'\n",
    "\n",
    "out_pix_p1_0, out_pix_p2_0, out_pix_p1_f, out_pix_p2_f = get_out_states(in_state,\n",
    "                                                                       i0 = index_dx0,\n",
    "                                                                       i1 = -1)\n",
    "out_0 = to_img(np.concatenate([out_pix_p1_0,out_pix_p2_0]))\n",
    "out_f = to_img(np.concatenate([out_pix_p1_f,out_pix_p2_f]))\n",
    "corr = complex_correlation(out_0,out_f)\n",
    "\n",
    "plt.figure()\n",
    "plt.subplot(221)\n",
    "plt.imshow(to_img(out_pix_p1_0), cmap = cmap)\n",
    "plt.title('Dx = 0')\n",
    "plt.axis('off')\n",
    "plt.subplot(223)\n",
    "plt.imshow(to_img(out_pix_p2_0), cmap = cmap)\n",
    "plt.axis('off')\n",
    "\n",
    "plt.subplot(222)\n",
    "plt.imshow(to_img(out_pix_p1_f), cmap = cmap)\n",
    "plt.title('Dx = max')\n",
    "plt.axis('off')\n",
    "plt.subplot(224)\n",
    "plt.imshow(to_img(out_pix_p2_f), cmap = cmap)\n",
    "plt.axis('off')\n",
    "\n",
    "plt.suptitle(f'Pearson correlation coefficient = {corr:.2f}%')\n",
    "\n",
    "# save figure\n",
    "# plt.savefig('fundamental_mode.svg')"
   ]
  },
  {
   "cell_type": "markdown",
   "metadata": {},
   "source": [
    "### Random wavefront"
   ]
  },
  {
   "cell_type": "code",
   "execution_count": 66,
   "metadata": {},
   "outputs": [
    {
     "data": {
      "application/vnd.jupyter.widget-view+json": {
       "model_id": "8375de10ceb6402c8ea82752dd81c9a1",
       "version_major": 2,
       "version_minor": 0
      },
      "text/plain": [
       "Canvas(toolbar=Toolbar(toolitems=[('Home', 'Reset original view', 'home', 'home'), ('Back', 'Back to previous …"
      ]
     },
     "metadata": {},
     "output_type": "display_data"
    },
    {
     "data": {
      "text/plain": [
       "Text(0.5, 0.98, 'Pearson correlation coefficient = 0.44%')"
      ]
     },
     "execution_count": 66,
     "metadata": {},
     "output_type": "execute_result"
    }
   ],
   "source": [
    "rand_vec = (np.random.rand(Nmodes)-0.5) + 1j * (np.random.rand(Nmodes)-0.5)\n",
    "\n",
    "out_pix_p1_0, out_pix_p2_0, out_pix_p1_f, out_pix_p2_f = get_out_states(rand_vec,\n",
    "                                                                       i0 = index_dx0,\n",
    "                                                                       i1 = -1)\n",
    "out_0 = to_img(np.concatenate([out_pix_p1_0,out_pix_p2_0]))\n",
    "out_f = to_img(np.concatenate([out_pix_p1_f,out_pix_p2_f]))\n",
    "corr = complex_correlation(out_0,out_f)\n",
    "\n",
    "plt.figure()\n",
    "plt.subplot(221)\n",
    "plt.imshow(to_img(out_pix_p1_0), cmap = cmap)\n",
    "plt.title('Dx = 0')\n",
    "plt.axis('off')\n",
    "plt.subplot(223)\n",
    "plt.imshow(to_img(out_pix_p2_0), cmap = cmap)\n",
    "plt.axis('off')\n",
    "\n",
    "plt.subplot(222)\n",
    "plt.imshow(to_img(out_pix_p1_f), cmap = cmap)\n",
    "plt.title('Dx = max')\n",
    "plt.axis('off')\n",
    "plt.subplot(224)\n",
    "plt.imshow(to_img(out_pix_p2_f), cmap = cmap)\n",
    "plt.axis('off')\n",
    "\n",
    "plt.suptitle(f'Pearson correlation coefficient = {corr:.2f}%')\n",
    "\n",
    "# save figure\n",
    "# plt.savefig('rand.svg')"
   ]
  },
  {
   "cell_type": "markdown",
   "metadata": {},
   "source": [
    "### First deformation principal modes"
   ]
  },
  {
   "cell_type": "code",
   "execution_count": 67,
   "metadata": {},
   "outputs": [
    {
     "data": {
      "application/vnd.jupyter.widget-view+json": {
       "model_id": "cad78a327d7546a498df5c6b8f5f9791",
       "version_major": 2,
       "version_minor": 0
      },
      "text/plain": [
       "Canvas(toolbar=Toolbar(toolitems=[('Home', 'Reset original view', 'home', 'home'), ('Back', 'Back to previous …"
      ]
     },
     "metadata": {},
     "output_type": "display_data"
    },
    {
     "data": {
      "application/vnd.jupyter.widget-view+json": {
       "model_id": "fd667fade2d24bbe9d19b7b1bb3fddbd",
       "version_major": 2,
       "version_minor": 0
      },
      "text/plain": [
       "Canvas(toolbar=Toolbar(toolitems=[('Home', 'Reset original view', 'home', 'home'), ('Back', 'Back to previous …"
      ]
     },
     "metadata": {},
     "output_type": "display_data"
    },
    {
     "data": {
      "application/vnd.jupyter.widget-view+json": {
       "model_id": "2f9d203187394b51bde15c77b35050dc",
       "version_major": 2,
       "version_minor": 0
      },
      "text/plain": [
       "Canvas(toolbar=Toolbar(toolitems=[('Home', 'Reset original view', 'home', 'home'), ('Back', 'Back to previous …"
      ]
     },
     "metadata": {},
     "output_type": "display_data"
    },
    {
     "data": {
      "application/vnd.jupyter.widget-view+json": {
       "model_id": "9ba77057644d4867852d5ed3d4e433fa",
       "version_major": 2,
       "version_minor": 0
      },
      "text/plain": [
       "Canvas(toolbar=Toolbar(toolitems=[('Home', 'Reset original view', 'home', 'home'), ('Back', 'Back to previous …"
      ]
     },
     "metadata": {},
     "output_type": "display_data"
    },
    {
     "data": {
      "application/vnd.jupyter.widget-view+json": {
       "model_id": "ebac08ce27484b6ba697d6e0fcdcf734",
       "version_major": 2,
       "version_minor": 0
      },
      "text/plain": [
       "Canvas(toolbar=Toolbar(toolitems=[('Home', 'Reset original view', 'home', 'home'), ('Back', 'Back to previous …"
      ]
     },
     "metadata": {},
     "output_type": "display_data"
    },
    {
     "data": {
      "application/vnd.jupyter.widget-view+json": {
       "model_id": "420ec107f3544fc68a63d2343d41097d",
       "version_major": 2,
       "version_minor": 0
      },
      "text/plain": [
       "Canvas(toolbar=Toolbar(toolitems=[('Home', 'Reset original view', 'home', 'home'), ('Back', 'Back to previous …"
      ]
     },
     "metadata": {},
     "output_type": "display_data"
    },
    {
     "data": {
      "application/vnd.jupyter.widget-view+json": {
       "model_id": "153a0d8f686e4ba58a1750d36b4d621a",
       "version_major": 2,
       "version_minor": 0
      },
      "text/plain": [
       "Canvas(toolbar=Toolbar(toolitems=[('Home', 'Reset original view', 'home', 'home'), ('Back', 'Back to previous …"
      ]
     },
     "metadata": {},
     "output_type": "display_data"
    }
   ],
   "source": [
    "max_ind = np.argmax([c[-1] for c in correlations_WS])\n",
    "cmap = 'gray'\n",
    "to_img = lambda x: np.abs(x)**2\n",
    "\n",
    "for ind in list(range(6))+[max_ind]:\n",
    "    state_WS = U[:,ind] # use WS eigen vector\n",
    "    out_pix_p1_0, out_pix_p2_0, out_pix_p1_f, out_pix_p2_f =  get_out_states(state_WS,\n",
    "                                                                   i0 = index_dx0,\n",
    "                                                                   i1 = -1)\n",
    "    \n",
    "    max_1 = np.max([np.max(to_img(out_pix_p1_0)),np.max(to_img(out_pix_p1_f))])\n",
    "    max_2 = np.max([np.max(to_img(out_pix_p2_0)),np.max(to_img(out_pix_p2_f))])\n",
    "    \n",
    "    plt.figure()\n",
    "    plt.subplot(221)\n",
    "    plt.imshow(to_img(out_pix_p1_0), vmax = max_1, cmap = cmap)\n",
    "    plt.title('Input')\n",
    "    plt.axis('off')\n",
    "    plt.subplot(223)\n",
    "    plt.imshow(to_img(out_pix_p2_0), vmax = max_2, cmap = cmap)\n",
    "    plt.axis('off')\n",
    "    \n",
    "    plt.subplot(222)\n",
    "    plt.imshow(to_img(out_pix_p1_f), vmax = max_1, cmap = cmap)\n",
    "    plt.title('Output')\n",
    "    plt.axis('off')\n",
    "    plt.subplot(224)\n",
    "    plt.imshow(to_img(out_pix_p2_f), vmax = max_2, cmap = cmap)\n",
    "    plt.axis('off')\n",
    "    \n",
    "    plt.suptitle(rf'Corr for $\\Delta x$ max = {correlations_WS[ind][-1]:.2f}')\n",
    "    \n",
    "    # save figure\n",
    "    # plt.savefig(f'WS_mode_{ind}.svg')"
   ]
  },
  {
   "cell_type": "markdown",
   "metadata": {},
   "source": [
    "# 4. PCA of the deformation operator as a function of $\\Delta x$ \n",
    "(Fig.4 of the main text)"
   ]
  },
  {
   "cell_type": "markdown",
   "metadata": {},
   "source": [
    "### Calculation of the deformation operator\n",
    "$D(t) = H^{-1}(\\Delta z = 0)\\times H(\\Delta z) -I$"
   ]
  },
  {
   "cell_type": "code",
   "execution_count": 68,
   "metadata": {},
   "outputs": [],
   "source": [
    "index_min_svd = index_dx0\n",
    "index_max_svd = 52\n",
    "# index of the reference matrix\n",
    "index_reference = index_min_svd\n",
    "\n",
    "evolutionTMs = np.array([TM@np.linalg.pinv(TM_modes[index_reference])-np.eye(TM.shape[0]) for TM in TM_modes])\n",
    "evolution_vec = evolutionTMs.reshape([evolutionTMs.shape[0],-1]).transpose()"
   ]
  },
  {
   "cell_type": "markdown",
   "metadata": {},
   "source": [
    "## Singular valude decomposition"
   ]
  },
  {
   "cell_type": "code",
   "execution_count": 69,
   "metadata": {},
   "outputs": [
    {
     "data": {
      "application/vnd.jupyter.widget-view+json": {
       "model_id": "1625a6aa03b04800aef233b2bdadc969",
       "version_major": 2,
       "version_minor": 0
      },
      "text/plain": [
       "Canvas(toolbar=Toolbar(toolitems=[('Home', 'Reset original view', 'home', 'home'), ('Back', 'Back to previous …"
      ]
     },
     "metadata": {},
     "output_type": "display_data"
    }
   ],
   "source": [
    "u,s,v = np.linalg.svd(evolution_vec[:,index_min_svd:index_max_svd],full_matrices = False)\n",
    "\n",
    "n = len(s)\n",
    "xticks = list(range(0,n,5))\n",
    "yticks = list(np.arange(0,1.1,0.2))\n",
    "\n",
    "\n",
    "fig, ax = plt.subplots(1,1, figsize = (6*.8,4*.8))\n",
    "img = ax.plot(s/s[0],'+', markersize = 11)\n",
    "ax.set_xticks(xticks)\n",
    "# ax.set_xlim([0,25])\n",
    "ax.set_xticklabels(xticks)\n",
    "ax.set_yticks(yticks)\n",
    "ax.set_yticklabels([f'{i:.1f}' for i in yticks])\n",
    "plt.title('Singular values.');\n",
    "\n",
    "# save figure\n",
    "# plt.savefig('svdD.svg', dpi = 300)"
   ]
  },
  {
   "cell_type": "markdown",
   "metadata": {},
   "source": [
    "## Singular value distribution  "
   ]
  },
  {
   "cell_type": "code",
   "execution_count": 70,
   "metadata": {},
   "outputs": [
    {
     "data": {
      "application/vnd.jupyter.widget-view+json": {
       "model_id": "f04e8a730eda4545858edbf5548d281c",
       "version_major": 2,
       "version_minor": 0
      },
      "text/plain": [
       "Canvas(toolbar=Toolbar(toolitems=[('Home', 'Reset original view', 'home', 'home'), ('Back', 'Back to previous …"
      ]
     },
     "metadata": {},
     "output_type": "display_data"
    }
   ],
   "source": [
    "dist_bins = np.linspace(0,1,30)\n",
    "plt.figure(figsize = (6*.8,4*.8))\n",
    "plt.hist(s/s[0], bins = dist_bins, density=True);\n",
    "\n",
    "# save figure\n",
    "# plt.savefig('svdD_dist.svg', dpi = 300)"
   ]
  },
  {
   "cell_type": "code",
   "execution_count": 76,
   "metadata": {},
   "outputs": [
    {
     "data": {
      "application/vnd.jupyter.widget-view+json": {
       "model_id": "943716692fa74b55ab8f911f343acbee",
       "version_major": 2,
       "version_minor": 0
      },
      "text/plain": [
       "Canvas(toolbar=Toolbar(toolitems=[('Home', 'Reset original view', 'home', 'home'), ('Back', 'Back to previous …"
      ]
     },
     "metadata": {},
     "output_type": "display_data"
    },
    {
     "name": "stdout",
     "output_type": "stream",
     "text": [
      "0.9794973604143481\n"
     ]
    }
   ],
   "source": [
    "n_max = Nmodes\n",
    "\n",
    "cmap = 'gray'\n",
    "\n",
    "# to_img = lambda x: colorize(x, beta = 1.8)\n",
    "to_img = lambda x: np.abs(x)**2\n",
    "\n",
    "U = u.reshape([Nmodes]*2+[u.shape[-1]])\n",
    "fig, ax = plt.subplots(2,2)\n",
    "plt.subplots_adjust(wspace = 0.1, hspace = 0.0, top = 1., bottom = 0)\n",
    "fig.set_size_inches(8, 8)\n",
    "ax[0,0].imshow(to_img(U[:n_max,:n_max,0]),cmap)\n",
    "ax[0,0].axis('off')\n",
    "ax[0,0].set_title(fr'$U_0$ (sv = {s[0]/s[0]:.2f})')\n",
    "ax[0,1].imshow(to_img(U[:n_max,:n_max,1]),cmap, vmax = np.max(to_img(U[:n_max,:n_max,2]))*0.75)\n",
    "# ax[0,1].imshow(to_img(U[:n_max,:n_max,1]),cmap)\n",
    "ax[0,1].axis('off')\n",
    "ax[0,1].set_title(fr'$U_1$ (sv = {s[1]/s[0]:.2f})')\n",
    "ax[1,0].imshow(to_img(U[:n_max,:n_max,2]),cmap)\n",
    "ax[1,0].axis('off')\n",
    "ax[1,0].set_title(fr'$U_2$ (sv = {s[2]/s[0]:.2f})')\n",
    "ax[1,1].imshow(to_img(U[:n_max,:n_max,3]),cmap)\n",
    "ax[1,1].axis('off')\n",
    "ax[1,1].set_title(fr'$U_3$ (sv = {s[3]/s[0]:.2f})')\n",
    "\n",
    "# save figure\n",
    "# plt.savefig('Ui.svg',dpi = 400)\n",
    "\n",
    "print(np.sum(s[:2]**2)/np.sum(s**2))\n"
   ]
  },
  {
   "cell_type": "markdown",
   "metadata": {},
   "source": [
    "## Show the map of close-by mode matrix\n",
    "Map of the modes with 1 if the modes have a difference of angular and radial momentum below 1, 0 otherwise"
   ]
  },
  {
   "cell_type": "code",
   "execution_count": 72,
   "metadata": {},
   "outputs": [
    {
     "data": {
      "application/vnd.jupyter.widget-view+json": {
       "model_id": "81754e639d244fd89366ca81c1a7d8ca",
       "version_major": 2,
       "version_minor": 0
      },
      "text/plain": [
       "Canvas(toolbar=Toolbar(toolitems=[('Home', 'Reset original view', 'home', 'home'), ('Back', 'Back to previous …"
      ]
     },
     "metadata": {},
     "output_type": "display_data"
    }
   ],
   "source": [
    "fig ,ax = plt.subplots(1,1)\n",
    "plt.subplots_adjust(wspace = 0.1, top = 1., bottom = 0)\n",
    "\n",
    "ML = (np.abs(M) < 2)*(np.abs(L) < 2).astype(np.complex)\n",
    "ax.imshow( colorize(ML),'jet', vmax = 1.1)\n",
    "ax.set_title(r'$|\\Delta l|+|\\Delta m|$')\n",
    "ax.axis('off');\n",
    "\n",
    "# save figure\n",
    "# plt.savefig('Deltam_Deltal.svg',dpi = 400)"
   ]
  },
  {
   "cell_type": "markdown",
   "metadata": {},
   "source": [
    "## Approximate TM using the first singular components"
   ]
  },
  {
   "cell_type": "code",
   "execution_count": 73,
   "metadata": {},
   "outputs": [],
   "source": [
    "def correlation_with_approx(TM0, TM1, U, alpha, n_sv = 2):\n",
    "    '''\n",
    "    Calculates the correlation between the measured matrix and the one \n",
    "    estimated using only the first 'n_sv' singular components with weights 'alpha'.\n",
    "    'TM0' is the reference matrix and 'TM1' the one we want to approximate.\n",
    "    'U' are the singular vectors.\n",
    "    '''\n",
    "    new_TM = np.zeros_like(TM0)\n",
    "    for i in range(n_sv):\n",
    "        new_TM += alpha[i] * U[...,i]\n",
    "\n",
    "    new_TM = np.copy(TM0)+new_TM@np.copy(TM0)\n",
    "    corr = function(TM1, new_TM)\n",
    "\n",
    "    return corr"
   ]
  },
  {
   "cell_type": "code",
   "execution_count": 74,
   "metadata": {},
   "outputs": [],
   "source": [
    "index_min_to_show = 10\n",
    "# number of singular vector/values to keep in the estimation\n",
    "n_sv = 2\n",
    "\n",
    "v2 = np.diag(1./s)@u.transpose().conjugate()@evolution_vec[:,index_min_to_show:]\n",
    "\n",
    "def get_reduced_sv_TM(index, n_sv, display = False):\n",
    "    '''\n",
    "    Approximate the evolution operator with the 'n_sv' first singular vectors\n",
    "    and return the correlation between the true 'index'-th matrix and \n",
    "    the estimated one.\n",
    "    '''\n",
    "    SVh = (np.diag(s)@v2[:,index])\n",
    "    alphas = SVh[:n_sv]\n",
    "    return correlation_with_approx( TM_modes[index_min_svd], \n",
    "                          TM_modes[index_min_to_show+index], \n",
    "                          U, \n",
    "                          alpha = alphas, \n",
    "                          n_sv = n_sv) "
   ]
  },
  {
   "cell_type": "markdown",
   "metadata": {},
   "source": [
    "## Plot the correlation between approximate matrices and true ones"
   ]
  },
  {
   "cell_type": "code",
   "execution_count": 75,
   "metadata": {},
   "outputs": [
    {
     "data": {
      "application/vnd.jupyter.widget-view+json": {
       "model_id": "ff56eb3527fe4004a40855e18eadd0b5",
       "version_major": 2,
       "version_minor": 0
      },
      "text/plain": [
       "Canvas(toolbar=Toolbar(toolitems=[('Home', 'Reset original view', 'home', 'home'), ('Back', 'Back to previous …"
      ]
     },
     "metadata": {},
     "output_type": "display_data"
    }
   ],
   "source": [
    "mask = np.zeros_like(s)\n",
    "mask[:n_sv] = 1.\n",
    "T0 = TM_modes[index_reference,...]\n",
    "evolution_vec_estim = (u*(s*mask))@v2\n",
    "estimated_TMs = [T0+T@T0 for T in evolution_vec_estim.reshape([Nmodes]*2+[-1]).transpose(2,0,1)]\n",
    "real_TMs = TM_modes[index_min_to_show:,...]\n",
    "energy = [np.linalg.norm(A)**2/np.linalg.norm(B)**2 for A,B in zip(estimated_TMs,real_TMs)]\n",
    "    \n",
    "n_sv_vec = [n_sv]\n",
    "corr_reduced_sv2 = [[get_reduced_sv_TM(i,n) for i in range(v2.shape[1])] for n in n_sv_vec] \n",
    "\n",
    "fig = plt.figure(figsize = (2.5*3,1*3))\n",
    "ax1 = fig.add_subplot(111)\n",
    "ax1.plot(dx[index_min_to_show:],corr_reduced_sv2[0])\n",
    "ax1.vlines(dx[index_min_svd],0,1., 'r', linestyles = 'dashed')\n",
    "\n",
    "y1min,y1max = 0.8, 1.03\n",
    "ylocs1 = np.arange(y1min,y1max,0.05)\n",
    "ax1.set_yticks(ylocs1)\n",
    "ax1.set_yticklabels([rf'{i*100:g}%' for i in ylocs1], fontsize = 15)\n",
    "ax1.set_ylim([y1min,y1max])\n",
    "# xlocs = [f'{i:g}' for i in ax1.get_xticks()]\n",
    "xticks = np.arange(0,70,10)\n",
    "ax1.set_xticks(xticks)\n",
    "ax1.set_xticklabels(xticks, fontsize = 15)\n",
    "ax1.set_xlim([-8,66])\n",
    "\n",
    "ax2 = plt.gca().twinx()\n",
    "ax2.plot(dx[index_min_to_show:],energy, color = 'orange')\n",
    "y2min,y2max = 0.8, 1.03\n",
    "ylocs2 = np.arange(y2min,y2max,0.05)\n",
    "ax2.set_ylim([y2min,y2max])\n",
    "ax2.set_yticks(ylocs2)\n",
    "ax2.set_yticklabels([rf'{i*100:g}%' for i in ylocs2], fontsize = 15)\n",
    "\n",
    "\n",
    "energy_tot = np.linalg.norm(evolution_vec_estim)**2/np.linalg.norm(evolution_vec)**2\n",
    "plt.suptitle(f'Energy kept = {energy_tot*100:.2f}%');\n",
    "\n",
    "# save figure\n",
    "# plt.savefig('SV_approx.svg')"
   ]
  },
  {
   "cell_type": "code",
   "execution_count": null,
   "metadata": {},
   "outputs": [],
   "source": []
  }
 ],
 "metadata": {
  "kernelspec": {
   "display_name": "Python 3",
   "language": "python",
   "name": "python3"
  },
  "language_info": {
   "codemirror_mode": {
    "name": "ipython",
    "version": 3
   },
   "file_extension": ".py",
   "mimetype": "text/x-python",
   "name": "python",
   "nbconvert_exporter": "python",
   "pygments_lexer": "ipython3",
   "version": "3.6.8"
  },
  "toc-showmarkdowntxt": false,
  "toc-showtags": false
 },
 "nbformat": 4,
 "nbformat_minor": 4
}
