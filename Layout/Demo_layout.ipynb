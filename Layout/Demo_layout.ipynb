{
 "cells": [
  {
   "cell_type": "markdown",
   "metadata": {},
   "source": [
    "# Modulation layout demo\n",
    "\n",
    "See Supplementary Information Section 1.2\n",
    "\n",
    "Requires:\n",
    "* Numpy\n",
    "* Matplotlib\n",
    "* SLMlayout (our custom made library to generate modulation patterns on the DMD available [here](https://github.com/wavefrontshaping/Layout)"
   ]
  },
  {
   "cell_type": "code",
   "execution_count": 1,
   "metadata": {},
   "outputs": [],
   "source": [
    "import SLMlayout as Layout\n",
    "import numpy as np\n",
    "import matplotlib.pyplot as plt\n",
    "from functions import colorize\n",
    "\n",
    "# for Jupyter lab\n",
    "# %matplotlib widget\n",
    "# for Jupyter notebook\n",
    "# %matplotlib notebook\n",
    "\n",
    "%matplotlib inline"
   ]
  },
  {
   "cell_type": "markdown",
   "metadata": {},
   "source": [
    "# 1. Parameters"
   ]
  },
  {
   "cell_type": "markdown",
   "metadata": {},
   "source": [
    "**For the sake of vizualization, we change the values we experimentaly use.**\n",
    "\n",
    "We actually used:\n",
    "```python\n",
    "param['center'] = [400,670]\n",
    "param['R_ill'] = 350\n",
    "param['pix_size'] = 10\n",
    "param['gap'] = 0\n",
    "param['order'] = 'square'\n",
    "param['squareZone'] = True\n",
    "param['leePeriod'] = 2\n",
    "param['angle'] = 0\n",
    "param['res'] = [800,1280]\n",
    "```"
   ]
  },
  {
   "cell_type": "code",
   "execution_count": 6,
   "metadata": {},
   "outputs": [],
   "source": [
    "param={}\n",
    "param['center'] = [100,100]\n",
    "param['R_ill'] = 90\n",
    "param['pix_size'] = 20\n",
    "param['gap'] = 0\n",
    "param['order'] = 'square'\n",
    "param['squareZone'] = True\n",
    "param['leePeriod'] = 4\n",
    "param['angle'] = 0\n",
    "param['res'] = [200,200]\n",
    "\n",
    "# probability of +1 and -1 values in the random vector\n",
    "param['p1'] = 0.25 "
   ]
  },
  {
   "cell_type": "markdown",
   "metadata": {},
   "source": [
    "# 2. Initialize the Layout object "
   ]
  },
  {
   "cell_type": "code",
   "execution_count": 7,
   "metadata": {},
   "outputs": [
    {
     "name": "stderr",
     "output_type": "stream",
     "text": [
      "2020-10-18 18:52:41,075 - SLMlayout.layouts. [INFO   ]  Creation of hexagonal layout.\n",
      "2020-10-18 18:52:41,076 - SLMlayout.layouts. [INFO   ]  Creation of the hexagons.\n",
      "2020-10-18 18:52:41,077 - SLMlayout.layouts. [INFO   ]  Setting up the grid.\n",
      "2020-10-18 18:52:41,082 - SLMlayout.layouts. [INFO   ]  -> Number of segments = 81\n",
      "2020-10-18 18:52:41,083 - SLMlayout.layouts. [INFO   ]  Removing overlaps.\n",
      "2020-10-18 18:52:41,167 - SLMlayout.layouts. [INFO   ]  -> Maximum relative variation of segment surfaces = 0.000\n",
      "2020-10-18 18:52:41,167 - SLMlayout.layouts. [INFO   ]  Sorting segments.\n"
     ]
    }
   ],
   "source": [
    "layout = Layout.Squares(\n",
    "    param['R_ill'],\n",
    "    param['pix_size'],\n",
    "    param['res'],\n",
    "    gap = param['gap'],\n",
    "    center = param['center'],\n",
    "    squareZone = param['squareZone'])\n",
    "\n",
    "N_pix = layout.nParts"
   ]
  },
  {
   "cell_type": "markdown",
   "metadata": {},
   "source": [
    "# 3. Generate the random vector\n",
    "\n",
    "Composed of values 0, -1 and 1"
   ]
  },
  {
   "cell_type": "code",
   "execution_count": 13,
   "metadata": {},
   "outputs": [],
   "source": [
    "layout.sortSegments(order = param['order'])\n",
    "\n",
    "# number of 0, -1, and 1 values\n",
    "n1 = int(param['p1']*N_pix)\n",
    "n0 = N_pix-2*n1\n",
    "ordered_vec = [0]*n0+[1]*n1+[-1]*n1\n",
    "vec = np.random.permutation(ordered_vec)"
   ]
  },
  {
   "cell_type": "markdown",
   "metadata": {},
   "source": [
    "# 4. Create the bitplane (data to send on the DMD)\n",
    "\n",
    "The bitplane can then be sent to the DMD via the [ALP4lib](https://github.com/wavefrontshaping/ALP4lib) module\n",
    "that we developped to control [Vialux](https://www.vialux.de/en/) DMDs.\n",
    "\n",
    "It can be installed using\n",
    "`pip install ALP4lib`"
   ]
  },
  {
   "cell_type": "code",
   "execution_count": 14,
   "metadata": {},
   "outputs": [],
   "source": [
    "bitplane = layout.getBitPlaneFromVec(\n",
    "    vec,\n",
    "    leePeriod = param['leePeriod'],\n",
    "    angle = param['angle']\n",
    ")"
   ]
  },
  {
   "cell_type": "markdown",
   "metadata": {},
   "source": [
    "# 5. Visualize the mask to send"
   ]
  },
  {
   "cell_type": "code",
   "execution_count": 18,
   "metadata": {},
   "outputs": [
    {
     "data": {
      "image/png": "[encoded data removed]",
      "text/plain": [
       "<Figure size 720x432 with 2 Axes>"
      ]
     },
     "metadata": {
      "needs_background": "light"
     },
     "output_type": "display_data"
    }
   ],
   "source": [
    "mask = layout.getMaskFromBitPlane(bitplane)\n",
    "\n",
    "plt.figure(figsize = (10,6))\n",
    "plt.subplot(121)\n",
    "plt.axis('off')\n",
    "plt.title('Complex target field')\n",
    "plt.imshow(colorize(img))\n",
    "plt.subplot(122)\n",
    "plt.title('Binary amplitude mask')\n",
    "plt.imshow(mask, cmap = 'gray')\n",
    "plt.axis('off')\n",
    "# plt.savefig('random_mask.svg')"
   ]
  }
 ],
 "metadata": {
  "kernelspec": {
   "display_name": "Python 3",
   "language": "python",
   "name": "python3"
  },
  "language_info": {
   "codemirror_mode": {
    "name": "ipython",
    "version": 3
   },
   "file_extension": ".py",
   "mimetype": "text/x-python",
   "name": "python",
   "nbconvert_exporter": "python",
   "pygments_lexer": "ipython3",
   "version": "3.6.8"
  }
 },
 "nbformat": 4,
 "nbformat_minor": 4
}
