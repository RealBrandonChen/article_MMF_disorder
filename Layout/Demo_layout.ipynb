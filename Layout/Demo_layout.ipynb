{
 "cells": [
  {
   "cell_type": "markdown",
   "metadata": {},
   "source": [
    "# Modulation layout demo\n",
    "\n",
    "See Supplementary Information Section 1.2\n",
    "\n",
    "Requires:\n",
    "* Numpy\n",
    "* Matplotlib\n",
    "* SLMlayout (our custom made library to generate modulation patterns on the DMD available [here](https://github.com/wavefrontshaping/Layout)"
   ]
  },
  {
   "cell_type": "code",
   "execution_count": 1,
   "metadata": {},
   "outputs": [],
   "source": [
    "import SLMlayout as Layout\n",
    "import numpy as np\n",
    "import matplotlib.pyplot as plt\n",
    "\n",
    "# for Jupyter lab\n",
    "%matplotlib widget\n",
    "# for Jupyter notebook\n",
    "# %matplotlib notebook"
   ]
  },
  {
   "cell_type": "code",
   "execution_count": 2,
   "metadata": {},
   "outputs": [],
   "source": [
    "param={}\n",
    "param['center'] = [100,100]#[400,670]\n",
    "param['R_ill'] = 90#350#250\n",
    "param['pix_size'] = 20\n",
    "param['gap'] = 0\n",
    "param['order'] = 'square'\n",
    "param['squareZone'] = True\n",
    "param['leePeriod'] = 4\n",
    "param['angle'] = 0\n",
    "param['res'] = [200,200]#[800,1280]"
   ]
  },
  {
   "cell_type": "code",
   "execution_count": 3,
   "metadata": {},
   "outputs": [
    {
     "name": "stderr",
     "output_type": "stream",
     "text": [
      "2020-10-17 11:07:30,443 - SLMlayout.layouts. [INFO   ]  Creation of hexagonal layout.\n",
      "2020-10-17 11:07:30,448 - SLMlayout.layouts. [INFO   ]  Creation of the hexagons.\n",
      "2020-10-17 11:07:30,451 - SLMlayout.layouts. [INFO   ]  Setting up the grid.\n",
      "2020-10-17 11:07:30,466 - SLMlayout.layouts. [INFO   ]  -> Number of segments = 81\n",
      "2020-10-17 11:07:30,467 - SLMlayout.layouts. [INFO   ]  Removing overlaps.\n",
      "2020-10-17 11:07:30,587 - SLMlayout.layouts. [INFO   ]  -> Maximum relative variation of segment surfaces = 0.000\n",
      "2020-10-17 11:07:30,587 - SLMlayout.layouts. [INFO   ]  Sorting segments.\n"
     ]
    }
   ],
   "source": [
    "layout = Layout.Squares(\n",
    "    param['R_ill'],\n",
    "    param['pix_size'],\n",
    "    param['res'],\n",
    "    gap = param['gap'],\n",
    "    center = param['center'],\n",
    "    squareZone = param['squareZone'])\n",
    "\n",
    "N_pix = layout.nParts"
   ]
  },
  {
   "cell_type": "code",
   "execution_count": 4,
   "metadata": {},
   "outputs": [
    {
     "data": {
      "application/vnd.jupyter.widget-view+json": {
       "model_id": "3be45231438341a1955365b5cd786f8e",
       "version_major": 2,
       "version_minor": 0
      },
      "text/plain": [
       "Canvas(toolbar=Toolbar(toolitems=[('Home', 'Reset original view', 'home', 'home'), ('Back', 'Back to previous …"
      ]
     },
     "metadata": {},
     "output_type": "display_data"
    },
    {
     "data": {
      "application/vnd.jupyter.widget-view+json": {
       "model_id": "0669624cf11146d9bbf1133eed278de4",
       "version_major": 2,
       "version_minor": 0
      },
      "text/plain": [
       "Canvas(toolbar=Toolbar(toolitems=[('Home', 'Reset original view', 'home', 'home'), ('Back', 'Back to previous …"
      ]
     },
     "metadata": {},
     "output_type": "display_data"
    },
    {
     "data": {
      "text/plain": [
       "<matplotlib.image.AxesImage at 0x7f0017c705c0>"
      ]
     },
     "execution_count": 4,
     "metadata": {},
     "output_type": "execute_result"
    }
   ],
   "source": [
    "layout.sortSegments(order = param['order'])\n",
    "# layout.showLayout()\n",
    "# vec = 1-2*np.random.randint(low = 0, high = 2, size = N_pix)\n",
    "# vec = [1]*(N_pix//2)+[np.exp(1j*np.pi*1.01)]*(N_pix//2+1)\n",
    "vec = np.exp(1j*np.linspace(0,2*np.pi, N_pix))\n",
    "img = layout.getImageFromVec(vec,dtype=np.complex)\n",
    "mask = layout.getMaskFromImage(\n",
    "    img,\n",
    "    leePeriod = param['leePeriod'],\n",
    "    angle = param['angle'])\n",
    "\n",
    "plt.figure()\n",
    "plt.imshow(np.angle(img), cmap = 'hsv', vmax = np.pi*2)\n",
    "\n",
    "plt.figure()\n",
    "plt.imshow(mask, cmap = 'gray')"
   ]
  },
  {
   "cell_type": "code",
   "execution_count": 5,
   "metadata": {},
   "outputs": [],
   "source": [
    "bitplane = layout.getBitPlaneFromVec(\n",
    "    vec,\n",
    "    leePeriod = param['leePeriod'],\n",
    "    angle = param['angle']\n",
    ")\n",
    "\n",
    "\n",
    "mask = layout.getMaskFromBitPlane(bitplane)\n",
    "\n"
   ]
  },
  {
   "cell_type": "code",
   "execution_count": 6,
   "metadata": {},
   "outputs": [
    {
     "data": {
      "application/vnd.jupyter.widget-view+json": {
       "model_id": "e413e5dc639843f383211f105716d486",
       "version_major": 2,
       "version_minor": 0
      },
      "text/plain": [
       "Canvas(toolbar=Toolbar(toolitems=[('Home', 'Reset original view', 'home', 'home'), ('Back', 'Back to previous …"
      ]
     },
     "metadata": {},
     "output_type": "display_data"
    },
    {
     "data": {
      "application/vnd.jupyter.widget-view+json": {
       "model_id": "45e5ecfc1c9f41cc985e52f0ebed90c6",
       "version_major": 2,
       "version_minor": 0
      },
      "text/plain": [
       "Canvas(toolbar=Toolbar(toolitems=[('Home', 'Reset original view', 'home', 'home'), ('Back', 'Back to previous …"
      ]
     },
     "metadata": {},
     "output_type": "display_data"
    },
    {
     "data": {
      "text/plain": [
       "<matplotlib.image.AxesImage at 0x7fedc706bac8>"
      ]
     },
     "execution_count": 6,
     "metadata": {},
     "output_type": "execute_result"
    }
   ],
   "source": [
    "plt.figure()\n",
    "plt.imshow(np.angle(img), cmap = 'hsv', vmax = np.pi*2)\n",
    "\n",
    "plt.figure()\n",
    "plt.imshow(mask, cmap = 'gray')"
   ]
  },
  {
   "cell_type": "code",
   "execution_count": null,
   "metadata": {},
   "outputs": [],
   "source": []
  },
  {
   "cell_type": "code",
   "execution_count": 7,
   "metadata": {},
   "outputs": [
    {
     "ename": "KeyError",
     "evalue": "'layout'",
     "output_type": "error",
     "traceback": [
      "\u001b[0;31m---------------------------------------------------------------------------\u001b[0m",
      "\u001b[0;31mKeyError\u001b[0m                                  Traceback (most recent call last)",
      "\u001b[0;32m<ipython-input-7-c3c99d42273b>\u001b[0m in \u001b[0;36m<module>\u001b[0;34m\u001b[0m\n\u001b[0;32m----> 1\u001b[0;31m \u001b[0mlayout\u001b[0m \u001b[0;34m=\u001b[0m \u001b[0mLayout\u001b[0m\u001b[0;34m.\u001b[0m\u001b[0mSquares\u001b[0m\u001b[0;34m(\u001b[0m\u001b[0mparam\u001b[0m\u001b[0;34m[\u001b[0m\u001b[0;34m'layout'\u001b[0m\u001b[0;34m]\u001b[0m\u001b[0;34m[\u001b[0m\u001b[0;34m'R_ill'\u001b[0m\u001b[0;34m]\u001b[0m\u001b[0;34m,\u001b[0m\u001b[0mparam\u001b[0m\u001b[0;34m[\u001b[0m\u001b[0;34m'layout'\u001b[0m\u001b[0;34m]\u001b[0m\u001b[0;34m[\u001b[0m\u001b[0;34m'd_hex'\u001b[0m\u001b[0;34m]\u001b[0m\u001b[0;34m,\u001b[0m\u001b[0mparam\u001b[0m\u001b[0;34m[\u001b[0m\u001b[0;34m'DMD'\u001b[0m\u001b[0;34m]\u001b[0m\u001b[0;34m[\u001b[0m\u001b[0;34m'res'\u001b[0m\u001b[0;34m]\u001b[0m\u001b[0;34m,\u001b[0m\u001b[0mgap\u001b[0m \u001b[0;34m=\u001b[0m \u001b[0mparam\u001b[0m\u001b[0;34m[\u001b[0m\u001b[0;34m'layout'\u001b[0m\u001b[0;34m]\u001b[0m\u001b[0;34m[\u001b[0m\u001b[0;34m'gap'\u001b[0m\u001b[0;34m]\u001b[0m\u001b[0;34m,\u001b[0m\u001b[0mcenter\u001b[0m \u001b[0;34m=\u001b[0m \u001b[0mparam\u001b[0m\u001b[0;34m[\u001b[0m\u001b[0;34m'layout'\u001b[0m\u001b[0;34m]\u001b[0m\u001b[0;34m[\u001b[0m\u001b[0;34m'center'\u001b[0m\u001b[0;34m]\u001b[0m\u001b[0;34m,\u001b[0m\u001b[0msquareZone\u001b[0m \u001b[0;34m=\u001b[0m \u001b[0mparam\u001b[0m\u001b[0;34m[\u001b[0m\u001b[0;34m'layout'\u001b[0m\u001b[0;34m]\u001b[0m\u001b[0;34m[\u001b[0m\u001b[0;34m'squareZone'\u001b[0m\u001b[0;34m]\u001b[0m\u001b[0;34m)\u001b[0m\u001b[0;34m\u001b[0m\u001b[0;34m\u001b[0m\u001b[0m\n\u001b[0m\u001b[1;32m      2\u001b[0m \u001b[0mparam\u001b[0m\u001b[0;34m[\u001b[0m\u001b[0;34m'layout'\u001b[0m\u001b[0;34m]\u001b[0m\u001b[0;34m[\u001b[0m\u001b[0;34m'nParts'\u001b[0m\u001b[0;34m]\u001b[0m \u001b[0;34m=\u001b[0m \u001b[0mlayout\u001b[0m\u001b[0;34m.\u001b[0m\u001b[0mnParts\u001b[0m \u001b[0;31m# Number of segments in the layout of the DMD\u001b[0m\u001b[0;34m\u001b[0m\u001b[0;34m\u001b[0m\u001b[0m\n\u001b[1;32m      3\u001b[0m \u001b[0mn_DMD\u001b[0m \u001b[0;34m=\u001b[0m \u001b[0mlayout\u001b[0m\u001b[0;34m.\u001b[0m\u001b[0mnParts\u001b[0m\u001b[0;34m\u001b[0m\u001b[0;34m\u001b[0m\u001b[0m\n\u001b[1;32m      4\u001b[0m \u001b[0mparam\u001b[0m\u001b[0;34m[\u001b[0m\u001b[0;34m'fiber'\u001b[0m\u001b[0;34m]\u001b[0m\u001b[0;34m[\u001b[0m\u001b[0;34m'inpoints'\u001b[0m\u001b[0;34m]\u001b[0m \u001b[0;34m=\u001b[0m \u001b[0mnp\u001b[0m\u001b[0;34m.\u001b[0m\u001b[0mint\u001b[0m\u001b[0;34m(\u001b[0m\u001b[0mnp\u001b[0m\u001b[0;34m.\u001b[0m\u001b[0msqrt\u001b[0m\u001b[0;34m(\u001b[0m\u001b[0mn_DMD\u001b[0m\u001b[0;34m)\u001b[0m\u001b[0;34m)\u001b[0m\u001b[0;34m\u001b[0m\u001b[0;34m\u001b[0m\u001b[0m\n\u001b[1;32m      5\u001b[0m \u001b[0mlayout\u001b[0m\u001b[0;34m.\u001b[0m\u001b[0msortSegments\u001b[0m\u001b[0;34m(\u001b[0m\u001b[0morder\u001b[0m\u001b[0;34m=\u001b[0m\u001b[0mparam\u001b[0m\u001b[0;34m[\u001b[0m\u001b[0;34m'layout'\u001b[0m\u001b[0;34m]\u001b[0m\u001b[0;34m[\u001b[0m\u001b[0;34m'order'\u001b[0m\u001b[0;34m]\u001b[0m\u001b[0;34m)\u001b[0m\u001b[0;34m\u001b[0m\u001b[0;34m\u001b[0m\u001b[0m\n",
      "\u001b[0;31mKeyError\u001b[0m: 'layout'"
     ]
    }
   ],
   "source": [
    "layout = Layout.Squares(param['layout']['R_ill'],param['layout']['d_hex'],param['DMD']['res'],gap = param['layout']['gap'],center = param['layout']['center'],squareZone = param['layout']['squareZone'])\n",
    "param['layout']['nParts'] = layout.nParts # Number of segments in the layout of the DMD\n",
    "n_DMD = layout.nParts\n",
    "param['fiber']['inpoints'] = np.int(np.sqrt(n_DMD))\n",
    "layout.sortSegments(order=param['layout']['order'])\n",
    "# Display what the layout looks like\n",
    "layout.showLayout()"
   ]
  },
  {
   "cell_type": "code",
   "execution_count": null,
   "metadata": {},
   "outputs": [],
   "source": [
    "param['layout'] ={}\n",
    "param['layout']['center'] = [400,670]\n",
    "param['layout']['R_ill'] = 350#250\n",
    "param['layout']['d_hex'] = 20\n",
    "param['layout']['gap'] = 0\n",
    "param['layout']['order'] = 'square'\n",
    "param['layout']['squareZone'] = True\n",
    "param['layout']['leePeriod'] = 2\n",
    "param['layout']['angle'] = 0\n",
    "\n",
    "param['outputs'] = {}\n",
    "param['outputs']['ROI_toplefts'] = ((14,11),(214,3))\n",
    "param['outputs']['ROI_size'] = 200\n",
    "param['outputs']['d_hex'] = 5 # parameters of the output layout\n",
    "param['outputs']['gap'] = 0\n",
    "param['outputs']['squareZone'] = True\n",
    "param['outputs']['padding_mult'] = 1"
   ]
  }
 ],
 "metadata": {
  "kernelspec": {
   "display_name": "Python 3",
   "language": "python",
   "name": "python3"
  },
  "language_info": {
   "codemirror_mode": {
    "name": "ipython",
    "version": 3
   },
   "file_extension": ".py",
   "mimetype": "text/x-python",
   "name": "python",
   "nbconvert_exporter": "python",
   "pygments_lexer": "ipython3",
   "version": "3.6.8"
  }
 },
 "nbformat": 4,
 "nbformat_minor": 4
}
